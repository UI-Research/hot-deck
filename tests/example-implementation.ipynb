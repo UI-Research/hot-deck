{
 "cells": [
  {
   "cell_type": "markdown",
   "metadata": {},
   "source": [
    "### Example Implementation\n",
    "This file goes through every step of the process, using features available to HotDeckImputer."
   ]
  },
  {
   "cell_type": "code",
   "execution_count": 333,
   "metadata": {},
   "outputs": [],
   "source": [
    "# from hot_deck_imputer import HotDeckImputer\n",
    "# Add the src directory to the Python path\n",
    "import sys\n",
    "import os\n",
    "\n",
    "# Import the HotDeckImputer class\n",
    "from hot_deck_imputer import HotDeckImputer\n",
    "import polars as pl\n",
    "import numpy as np\n",
    "import seaborn as sns\n",
    "import matplotlib.pyplot as plt"
   ]
  },
  {
   "cell_type": "markdown",
   "metadata": {},
   "source": [
    "#### Generate Data"
   ]
  },
  {
   "cell_type": "code",
   "execution_count": 334,
   "metadata": {},
   "outputs": [],
   "source": [
    "# Create possibilities for race, sex, and work\n",
    "race_categories = ['Black', 'White', 'Asian']\n",
    "sex_categories = ['M', 'F']\n",
    "work_categories = [0, 1]\n",
    "\n",
    "np.random.seed(42)  # For reproducibility\n",
    "# Generate polars frames\n",
    "donor_data = {\n",
    "    'donor_assets': np.random.randint(200, 500000, size=1000),\n",
    "    'race_cell': np.random.choice(race_categories, size=1000),\n",
    "    'sex_cell': np.random.choice(sex_categories, size=1000),\n",
    "    'work_cell': np.random.choice(work_categories, size=1000),\n",
    "    'weight': np.random.randint(1, 5, size=1000)\n",
    "}\n",
    "\n",
    "donor_data = pl.DataFrame(donor_data)\n",
    "\n",
    "recipient_data = {\n",
    "    'race_cell': np.random.choice(race_categories, size=1500),\n",
    "    'sex_cell': np.random.choice(sex_categories, size=1500),\n",
    "    'work_cell': np.random.choice(work_categories, size=1500),\n",
    "    'weight': np.random.randint(1, 5, size=1500)\n",
    "}\n",
    "\n",
    "recipient_data = pl.DataFrame(recipient_data)"
   ]
  },
  {
   "cell_type": "markdown",
   "metadata": {},
   "source": [
    "#### Create Imputer + Define Cells"
   ]
  },
  {
   "cell_type": "code",
   "execution_count": 335,
   "metadata": {},
   "outputs": [],
   "source": [
    "imputer = HotDeckImputer(donor_data = donor_data, \n",
    "                         imputation_var = 'donor_assets', \n",
    "                         weight_var = 'weight', \n",
    "                         recipient_data = recipient_data,\n",
    "                         random_seed = 42)"
   ]
  },
  {
   "cell_type": "code",
   "execution_count": 336,
   "metadata": {},
   "outputs": [
    {
     "name": "stdout",
     "output_type": "stream",
     "text": [
      "Summary of donor_assets pre CPI aging:\n",
      "{'mean': 243894.595, 'median': 234681.5, 'min': 1215, 'max': 499816, 'std_dev': 145575.1328812389, 'count': 1000, 'missing_values': 0}\n",
      "Summary of donor_assets post CPI aging:\n",
      "{'mean': 352122.1382765577, 'median': 338820.7581801883, 'min': 1754.152846257284, 'max': 721607.9497982968, 'std_dev': 210173.6902781132, 'count': 1000, 'missing_values': 0}\n"
     ]
    }
   ],
   "source": [
    "# If you are imputing from one dataset to another across years, this will adjust the donor data to the recipient year\n",
    "imputer.age_dollar_amounts(donor_year_cpi = 223.1, imp_year_cpi = 322.1)"
   ]
  },
  {
   "cell_type": "code",
   "execution_count": 337,
   "metadata": {},
   "outputs": [
    {
     "data": {
      "text/plain": [
       "[\"race_cell == 'Asian' & sex_cell == 'M'\",\n",
       " \"race_cell == 'Asian' & sex_cell == 'F'\",\n",
       " \"race_cell == 'White' & sex_cell == 'M'\",\n",
       " \"race_cell == 'White' & sex_cell == 'F'\",\n",
       " \"race_cell == 'Black' & sex_cell == 'M'\",\n",
       " \"race_cell == 'Black' & sex_cell == 'F'\"]"
      ]
     },
     "execution_count": 337,
     "metadata": {},
     "output_type": "execute_result"
    }
   ],
   "source": [
    "# The variables create cells held in imputer.donor_cells, a dictionary.\n",
    "# These cells divide the data according to every unique combination of the variables. \n",
    "# Key: combination of variables defining cell, Value: pl.DataFrame of data in that cell\n",
    "variables = ['race_cell','sex_cell']\n",
    "\n",
    "imputer.define_cells(variables)\n",
    "\n",
    "# Take a look at cell definitions\n",
    "imputer.cell_definitions"
   ]
  },
  {
   "cell_type": "code",
   "execution_count": 338,
   "metadata": {},
   "outputs": [],
   "source": [
    "# Create the cells after defining them, assuming above looks right\n",
    "imputer.generate_cells()"
   ]
  },
  {
   "cell_type": "code",
   "execution_count": 339,
   "metadata": {},
   "outputs": [
    {
     "data": {
      "text/plain": [
       "{\"race_cell == 'Asian' & sex_cell == 'M'\": shape: (259, 4)\n",
       " ┌───────────┬──────────┬───────────┬────────┐\n",
       " │ race_cell ┆ sex_cell ┆ work_cell ┆ weight │\n",
       " │ ---       ┆ ---      ┆ ---       ┆ ---    │\n",
       " │ str       ┆ str      ┆ i32       ┆ i32    │\n",
       " ╞═══════════╪══════════╪═══════════╪════════╡\n",
       " │ Asian     ┆ M        ┆ 1         ┆ 3      │\n",
       " │ Asian     ┆ M        ┆ 0         ┆ 3      │\n",
       " │ Asian     ┆ M        ┆ 0         ┆ 1      │\n",
       " │ Asian     ┆ M        ┆ 1         ┆ 2      │\n",
       " │ Asian     ┆ M        ┆ 1         ┆ 2      │\n",
       " │ …         ┆ …        ┆ …         ┆ …      │\n",
       " │ Asian     ┆ M        ┆ 1         ┆ 3      │\n",
       " │ Asian     ┆ M        ┆ 0         ┆ 2      │\n",
       " │ Asian     ┆ M        ┆ 0         ┆ 2      │\n",
       " │ Asian     ┆ M        ┆ 1         ┆ 2      │\n",
       " │ Asian     ┆ M        ┆ 1         ┆ 1      │\n",
       " └───────────┴──────────┴───────────┴────────┘,\n",
       " \"race_cell == 'Asian' & sex_cell == 'F'\": shape: (241, 4)\n",
       " ┌───────────┬──────────┬───────────┬────────┐\n",
       " │ race_cell ┆ sex_cell ┆ work_cell ┆ weight │\n",
       " │ ---       ┆ ---      ┆ ---       ┆ ---    │\n",
       " │ str       ┆ str      ┆ i32       ┆ i32    │\n",
       " ╞═══════════╪══════════╪═══════════╪════════╡\n",
       " │ Asian     ┆ F        ┆ 0         ┆ 3      │\n",
       " │ Asian     ┆ F        ┆ 1         ┆ 1      │\n",
       " │ Asian     ┆ F        ┆ 1         ┆ 1      │\n",
       " │ Asian     ┆ F        ┆ 0         ┆ 2      │\n",
       " │ Asian     ┆ F        ┆ 0         ┆ 2      │\n",
       " │ …         ┆ …        ┆ …         ┆ …      │\n",
       " │ Asian     ┆ F        ┆ 1         ┆ 1      │\n",
       " │ Asian     ┆ F        ┆ 1         ┆ 2      │\n",
       " │ Asian     ┆ F        ┆ 1         ┆ 2      │\n",
       " │ Asian     ┆ F        ┆ 1         ┆ 4      │\n",
       " │ Asian     ┆ F        ┆ 1         ┆ 3      │\n",
       " └───────────┴──────────┴───────────┴────────┘,\n",
       " \"race_cell == 'White' & sex_cell == 'M'\": shape: (256, 4)\n",
       " ┌───────────┬──────────┬───────────┬────────┐\n",
       " │ race_cell ┆ sex_cell ┆ work_cell ┆ weight │\n",
       " │ ---       ┆ ---      ┆ ---       ┆ ---    │\n",
       " │ str       ┆ str      ┆ i32       ┆ i32    │\n",
       " ╞═══════════╪══════════╪═══════════╪════════╡\n",
       " │ White     ┆ M        ┆ 0         ┆ 4      │\n",
       " │ White     ┆ M        ┆ 1         ┆ 1      │\n",
       " │ White     ┆ M        ┆ 0         ┆ 3      │\n",
       " │ White     ┆ M        ┆ 1         ┆ 1      │\n",
       " │ White     ┆ M        ┆ 1         ┆ 3      │\n",
       " │ …         ┆ …        ┆ …         ┆ …      │\n",
       " │ White     ┆ M        ┆ 1         ┆ 4      │\n",
       " │ White     ┆ M        ┆ 1         ┆ 2      │\n",
       " │ White     ┆ M        ┆ 0         ┆ 3      │\n",
       " │ White     ┆ M        ┆ 1         ┆ 3      │\n",
       " │ White     ┆ M        ┆ 0         ┆ 1      │\n",
       " └───────────┴──────────┴───────────┴────────┘,\n",
       " \"race_cell == 'White' & sex_cell == 'F'\": shape: (235, 4)\n",
       " ┌───────────┬──────────┬───────────┬────────┐\n",
       " │ race_cell ┆ sex_cell ┆ work_cell ┆ weight │\n",
       " │ ---       ┆ ---      ┆ ---       ┆ ---    │\n",
       " │ str       ┆ str      ┆ i32       ┆ i32    │\n",
       " ╞═══════════╪══════════╪═══════════╪════════╡\n",
       " │ White     ┆ F        ┆ 1         ┆ 1      │\n",
       " │ White     ┆ F        ┆ 1         ┆ 4      │\n",
       " │ White     ┆ F        ┆ 1         ┆ 2      │\n",
       " │ White     ┆ F        ┆ 0         ┆ 4      │\n",
       " │ White     ┆ F        ┆ 1         ┆ 3      │\n",
       " │ …         ┆ …        ┆ …         ┆ …      │\n",
       " │ White     ┆ F        ┆ 1         ┆ 2      │\n",
       " │ White     ┆ F        ┆ 0         ┆ 2      │\n",
       " │ White     ┆ F        ┆ 1         ┆ 4      │\n",
       " │ White     ┆ F        ┆ 1         ┆ 2      │\n",
       " │ White     ┆ F        ┆ 0         ┆ 4      │\n",
       " └───────────┴──────────┴───────────┴────────┘,\n",
       " \"race_cell == 'Black' & sex_cell == 'M'\": shape: (226, 4)\n",
       " ┌───────────┬──────────┬───────────┬────────┐\n",
       " │ race_cell ┆ sex_cell ┆ work_cell ┆ weight │\n",
       " │ ---       ┆ ---      ┆ ---       ┆ ---    │\n",
       " │ str       ┆ str      ┆ i32       ┆ i32    │\n",
       " ╞═══════════╪══════════╪═══════════╪════════╡\n",
       " │ Black     ┆ M        ┆ 1         ┆ 2      │\n",
       " │ Black     ┆ M        ┆ 1         ┆ 1      │\n",
       " │ Black     ┆ M        ┆ 0         ┆ 1      │\n",
       " │ Black     ┆ M        ┆ 0         ┆ 4      │\n",
       " │ Black     ┆ M        ┆ 1         ┆ 4      │\n",
       " │ …         ┆ …        ┆ …         ┆ …      │\n",
       " │ Black     ┆ M        ┆ 1         ┆ 4      │\n",
       " │ Black     ┆ M        ┆ 0         ┆ 3      │\n",
       " │ Black     ┆ M        ┆ 1         ┆ 4      │\n",
       " │ Black     ┆ M        ┆ 0         ┆ 1      │\n",
       " │ Black     ┆ M        ┆ 1         ┆ 2      │\n",
       " └───────────┴──────────┴───────────┴────────┘,\n",
       " \"race_cell == 'Black' & sex_cell == 'F'\": shape: (283, 4)\n",
       " ┌───────────┬──────────┬───────────┬────────┐\n",
       " │ race_cell ┆ sex_cell ┆ work_cell ┆ weight │\n",
       " │ ---       ┆ ---      ┆ ---       ┆ ---    │\n",
       " │ str       ┆ str      ┆ i32       ┆ i32    │\n",
       " ╞═══════════╪══════════╪═══════════╪════════╡\n",
       " │ Black     ┆ F        ┆ 0         ┆ 1      │\n",
       " │ Black     ┆ F        ┆ 0         ┆ 1      │\n",
       " │ Black     ┆ F        ┆ 1         ┆ 1      │\n",
       " │ Black     ┆ F        ┆ 1         ┆ 1      │\n",
       " │ Black     ┆ F        ┆ 1         ┆ 4      │\n",
       " │ …         ┆ …        ┆ …         ┆ …      │\n",
       " │ Black     ┆ F        ┆ 0         ┆ 2      │\n",
       " │ Black     ┆ F        ┆ 0         ┆ 2      │\n",
       " │ Black     ┆ F        ┆ 0         ┆ 2      │\n",
       " │ Black     ┆ F        ┆ 1         ┆ 3      │\n",
       " │ Black     ┆ F        ┆ 0         ┆ 1      │\n",
       " └───────────┴──────────┴───────────┴────────┘}"
      ]
     },
     "execution_count": 339,
     "metadata": {},
     "output_type": "execute_result"
    }
   ],
   "source": [
    "# Take a look at the recipient cells\n",
    "imputer.recipient_cells"
   ]
  },
  {
   "cell_type": "code",
   "execution_count": 340,
   "metadata": {},
   "outputs": [
    {
     "data": {
      "text/plain": [
       "{\"race_cell == 'Asian' & sex_cell == 'M'\": shape: (162, 5)\n",
       " ┌───────────────┬───────────┬──────────┬───────────┬────────┐\n",
       " │ donor_assets  ┆ race_cell ┆ sex_cell ┆ work_cell ┆ weight │\n",
       " │ ---           ┆ ---       ┆ ---      ┆ ---       ┆ ---    │\n",
       " │ f64           ┆ str       ┆ str      ┆ i32       ┆ i32    │\n",
       " ╞═══════════════╪═══════════╪══════════╪═══════════╪════════╡\n",
       " │ 190765.204841 ┆ Asian     ┆ M        ┆ 1         ┆ 2      │\n",
       " │ 173363.719857 ┆ Asian     ┆ M        ┆ 1         ┆ 1      │\n",
       " │ 126613.74182  ┆ Asian     ┆ M        ┆ 0         ┆ 4      │\n",
       " │ 541507.705513 ┆ Asian     ┆ M        ┆ 1         ┆ 3      │\n",
       " │ 267062.913043 ┆ Asian     ┆ M        ┆ 1         ┆ 1      │\n",
       " │ …             ┆ …         ┆ …        ┆ …         ┆ …      │\n",
       " │ 717086.133572 ┆ Asian     ┆ M        ┆ 1         ┆ 4      │\n",
       " │ 576241.375616 ┆ Asian     ┆ M        ┆ 0         ┆ 3      │\n",
       " │ 145381.011654 ┆ Asian     ┆ M        ┆ 0         ┆ 2      │\n",
       " │ 351012.481398 ┆ Asian     ┆ M        ┆ 1         ┆ 1      │\n",
       " │ 186211.626177 ┆ Asian     ┆ M        ┆ 0         ┆ 3      │\n",
       " └───────────────┴───────────┴──────────┴───────────┴────────┘,\n",
       " \"race_cell == 'Asian' & sex_cell == 'F'\": shape: (169, 5)\n",
       " ┌───────────────┬───────────┬──────────┬───────────┬────────┐\n",
       " │ donor_assets  ┆ race_cell ┆ sex_cell ┆ work_cell ┆ weight │\n",
       " │ ---           ┆ ---       ┆ ---      ┆ ---       ┆ ---    │\n",
       " │ f64           ┆ str       ┆ str      ┆ i32       ┆ i32    │\n",
       " ╞═══════════════╪═══════════╪══════════╪═══════════╪════════╡\n",
       " │ 159487.865531 ┆ Asian     ┆ F        ┆ 1         ┆ 3      │\n",
       " │ 276528.119677 ┆ Asian     ┆ F        ┆ 1         ┆ 3      │\n",
       " │ 93872.442851  ┆ Asian     ┆ F        ┆ 0         ┆ 1      │\n",
       " │ 280414.687136 ┆ Asian     ┆ F        ┆ 1         ┆ 2      │\n",
       " │ 365136.660242 ┆ Asian     ┆ F        ┆ 0         ┆ 4      │\n",
       " │ …             ┆ …         ┆ …        ┆ …         ┆ …      │\n",
       " │ 677244.485881 ┆ Asian     ┆ F        ┆ 0         ┆ 3      │\n",
       " │ 662623.658001 ┆ Asian     ┆ F        ┆ 1         ┆ 2      │\n",
       " │ 690410.016584 ┆ Asian     ┆ F        ┆ 1         ┆ 4      │\n",
       " │ 460431.194083 ┆ Asian     ┆ F        ┆ 0         ┆ 4      │\n",
       " │ 40297.871806  ┆ Asian     ┆ F        ┆ 0         ┆ 1      │\n",
       " └───────────────┴───────────┴──────────┴───────────┴────────┘,\n",
       " \"race_cell == 'White' & sex_cell == 'M'\": shape: (170, 5)\n",
       " ┌───────────────┬───────────┬──────────┬───────────┬────────┐\n",
       " │ donor_assets  ┆ race_cell ┆ sex_cell ┆ work_cell ┆ weight │\n",
       " │ ---           ┆ ---       ┆ ---      ┆ ---       ┆ ---    │\n",
       " │ f64           ┆ str       ┆ str      ┆ i32       ┆ i32    │\n",
       " ╞═══════════════╪═══════════╪══════════╪═══════════╪════════╡\n",
       " │ 374476.26087  ┆ White     ┆ M        ┆ 1         ┆ 3      │\n",
       " │ 686937.804572 ┆ White     ┆ M        ┆ 1         ┆ 1      │\n",
       " │ 340718.563873 ┆ White     ┆ M        ┆ 1         ┆ 3      │\n",
       " │ 702284.837293 ┆ White     ┆ M        ┆ 1         ┆ 3      │\n",
       " │ 179104.058718 ┆ White     ┆ M        ┆ 0         ┆ 3      │\n",
       " │ …             ┆ …         ┆ …        ┆ …         ┆ …      │\n",
       " │ 492610.875392 ┆ White     ┆ M        ┆ 1         ┆ 1      │\n",
       " │ 177006.294039 ┆ White     ┆ M        ┆ 0         ┆ 1      │\n",
       " │ 633604.33931  ┆ White     ┆ M        ┆ 1         ┆ 4      │\n",
       " │ 89531.095025  ┆ White     ┆ M        ┆ 1         ┆ 1      │\n",
       " │ 580142.380547 ┆ White     ┆ M        ┆ 0         ┆ 1      │\n",
       " └───────────────┴───────────┴──────────┴───────────┴────────┘,\n",
       " \"race_cell == 'White' & sex_cell == 'F'\": shape: (158, 5)\n",
       " ┌───────────────┬───────────┬──────────┬───────────┬────────┐\n",
       " │ donor_assets  ┆ race_cell ┆ sex_cell ┆ work_cell ┆ weight │\n",
       " │ ---           ┆ ---       ┆ ---      ┆ ---       ┆ ---    │\n",
       " │ f64           ┆ str       ┆ str      ┆ i32       ┆ i32    │\n",
       " ╞═══════════════╪═══════════╪══════════╪═══════════╪════════╡\n",
       " │ 212327.569251 ┆ White     ┆ F        ┆ 1         ┆ 3      │\n",
       " │ 401891.576423 ┆ White     ┆ F        ┆ 1         ┆ 3      │\n",
       " │ 465000.653967 ┆ White     ┆ F        ┆ 1         ┆ 2      │\n",
       " │ 309504.74944  ┆ White     ┆ F        ┆ 1         ┆ 2      │\n",
       " │ 671844.871358 ┆ White     ┆ F        ┆ 0         ┆ 1      │\n",
       " │ …             ┆ …         ┆ …        ┆ …         ┆ …      │\n",
       " │ 258253.167638 ┆ White     ┆ F        ┆ 0         ┆ 3      │\n",
       " │ 554592.386374 ┆ White     ┆ F        ┆ 0         ┆ 1      │\n",
       " │ 240844.463918 ┆ White     ┆ F        ┆ 1         ┆ 3      │\n",
       " │ 119894.542358 ┆ White     ┆ F        ┆ 0         ┆ 1      │\n",
       " │ 73905.419095  ┆ White     ┆ F        ┆ 1         ┆ 3      │\n",
       " └───────────────┴───────────┴──────────┴───────────┴────────┘,\n",
       " \"race_cell == 'Black' & sex_cell == 'M'\": shape: (150, 5)\n",
       " ┌───────────────┬───────────┬──────────┬───────────┬────────┐\n",
       " │ donor_assets  ┆ race_cell ┆ sex_cell ┆ work_cell ┆ weight │\n",
       " │ ---           ┆ ---       ┆ ---      ┆ ---       ┆ ---    │\n",
       " │ f64           ┆ str       ┆ str      ┆ i32       ┆ i32    │\n",
       " ╞═══════════════╪═══════════╪══════════╪═══════════╪════════╡\n",
       " │ 176365.270282 ┆ Black     ┆ M        ┆ 0         ┆ 3      │\n",
       " │ 528466.337069 ┆ Black     ┆ M        ┆ 0         ┆ 2      │\n",
       " │ 198568.658449 ┆ Black     ┆ M        ┆ 0         ┆ 2      │\n",
       " │ 59612.321829  ┆ Black     ┆ M        ┆ 1         ┆ 1      │\n",
       " │ 475808.545495 ┆ Black     ┆ M        ┆ 0         ┆ 4      │\n",
       " │ …             ┆ …         ┆ …        ┆ …         ┆ …      │\n",
       " │ 462699.320932 ┆ Black     ┆ M        ┆ 1         ┆ 2      │\n",
       " │ 602344.324966 ┆ Black     ┆ M        ┆ 1         ┆ 3      │\n",
       " │ 326800.840879 ┆ Black     ┆ M        ┆ 1         ┆ 1      │\n",
       " │ 1754.152846   ┆ Black     ┆ M        ┆ 1         ┆ 3      │\n",
       " │ 163166.533393 ┆ Black     ┆ M        ┆ 1         ┆ 4      │\n",
       " └───────────────┴───────────┴──────────┴───────────┴────────┘,\n",
       " \"race_cell == 'Black' & sex_cell == 'F'\": shape: (191, 5)\n",
       " ┌───────────────┬───────────┬──────────┬───────────┬────────┐\n",
       " │ donor_assets  ┆ race_cell ┆ sex_cell ┆ work_cell ┆ weight │\n",
       " │ ---           ┆ ---       ┆ ---      ┆ ---       ┆ ---    │\n",
       " │ f64           ┆ str       ┆ str      ┆ i32       ┆ i32    │\n",
       " ╞═══════════════╪═══════════╪══════════╪═══════════╪════════╡\n",
       " │ 300432.242044 ┆ Black     ┆ F        ┆ 0         ┆ 4      │\n",
       " │ 79530.25818   ┆ Black     ┆ F        ┆ 1         ┆ 4      │\n",
       " │ 621691.981174 ┆ Black     ┆ F        ┆ 0         ┆ 1      │\n",
       " │ 561138.336172 ┆ Black     ┆ F        ┆ 1         ┆ 2      │\n",
       " │ 253237.58987  ┆ Black     ┆ F        ┆ 0         ┆ 3      │\n",
       " │ …             ┆ …         ┆ …        ┆ …         ┆ …      │\n",
       " │ 40037.997311  ┆ Black     ┆ F        ┆ 0         ┆ 2      │\n",
       " │ 81395.579561  ┆ Black     ┆ F        ┆ 0         ┆ 4      │\n",
       " │ 71619.967279  ┆ Black     ┆ F        ┆ 1         ┆ 4      │\n",
       " │ 669546.425818 ┆ Black     ┆ F        ┆ 1         ┆ 1      │\n",
       " │ 244230.051098 ┆ Black     ┆ F        ┆ 1         ┆ 4      │\n",
       " └───────────────┴───────────┴──────────┴───────────┴────────┘}"
      ]
     },
     "execution_count": 340,
     "metadata": {},
     "output_type": "execute_result"
    }
   ],
   "source": [
    "# Take a look at donor cells\n",
    "imputer.donor_cells"
   ]
  },
  {
   "cell_type": "code",
   "execution_count": 341,
   "metadata": {},
   "outputs": [
    {
     "name": "stdout",
     "output_type": "stream",
     "text": [
      "Cell splitting completed successfully.\n",
      "To rerun with these cells submit imputer.impute() again.\n",
      "Cell splitting completed successfully.\n",
      "To rerun with these cells submit imputer.impute() again.\n"
     ]
    }
   ],
   "source": [
    "# After deciding that you want to split on work_cell for Black Women, you can do the following\n",
    "imputer.split_cell(\"race_cell == 'Black' & sex_cell == 'F'\", \"work_cell\")\n",
    "imputer.split_cell(\"race_cell == 'White' & sex_cell == 'F'\", \"work_cell\")\n"
   ]
  },
  {
   "cell_type": "code",
   "execution_count": 342,
   "metadata": {},
   "outputs": [
    {
     "data": {
      "text/plain": [
       "[\"race_cell == 'Asian' & sex_cell == 'M'\",\n",
       " \"race_cell == 'Asian' & sex_cell == 'F'\",\n",
       " \"race_cell == 'White' & sex_cell == 'M'\",\n",
       " \"race_cell == 'Black' & sex_cell == 'M'\",\n",
       " \"race_cell == 'Black' & sex_cell == 'F' & work_cell == 1\",\n",
       " \"race_cell == 'Black' & sex_cell == 'F' & work_cell == 0\",\n",
       " \"race_cell == 'White' & sex_cell == 'F' & work_cell == 0\",\n",
       " \"race_cell == 'White' & sex_cell == 'F' & work_cell == 1\"]"
      ]
     },
     "execution_count": 342,
     "metadata": {},
     "output_type": "execute_result"
    }
   ],
   "source": [
    "# Cell definitions have changed, as have donor cells\n",
    "imputer.cell_definitions"
   ]
  },
  {
   "cell_type": "code",
   "execution_count": 343,
   "metadata": {},
   "outputs": [
    {
     "data": {
      "text/html": [
       "<div><style>\n",
       ".dataframe > thead > tr,\n",
       ".dataframe > tbody > tr {\n",
       "  text-align: right;\n",
       "  white-space: pre-wrap;\n",
       "}\n",
       "</style>\n",
       "<small>shape: (97, 5)</small><table border=\"1\" class=\"dataframe\"><thead><tr><th>donor_assets</th><th>race_cell</th><th>sex_cell</th><th>work_cell</th><th>weight</th></tr><tr><td>f64</td><td>str</td><td>str</td><td>i32</td><td>i32</td></tr></thead><tbody><tr><td>79530.25818</td><td>&quot;Black&quot;</td><td>&quot;F&quot;</td><td>1</td><td>4</td></tr><tr><td>561138.336172</td><td>&quot;Black&quot;</td><td>&quot;F&quot;</td><td>1</td><td>2</td></tr><tr><td>609418.686239</td><td>&quot;Black&quot;</td><td>&quot;F&quot;</td><td>1</td><td>4</td></tr><tr><td>373923.305693</td><td>&quot;Black&quot;</td><td>&quot;F&quot;</td><td>1</td><td>4</td></tr><tr><td>4254.722994</td><td>&quot;Black&quot;</td><td>&quot;F&quot;</td><td>1</td><td>1</td></tr><tr><td>&hellip;</td><td>&hellip;</td><td>&hellip;</td><td>&hellip;</td><td>&hellip;</td></tr><tr><td>458574.535186</td><td>&quot;Black&quot;</td><td>&quot;F&quot;</td><td>1</td><td>4</td></tr><tr><td>518811.999552</td><td>&quot;Black&quot;</td><td>&quot;F&quot;</td><td>1</td><td>4</td></tr><tr><td>71619.967279</td><td>&quot;Black&quot;</td><td>&quot;F&quot;</td><td>1</td><td>4</td></tr><tr><td>669546.425818</td><td>&quot;Black&quot;</td><td>&quot;F&quot;</td><td>1</td><td>1</td></tr><tr><td>244230.051098</td><td>&quot;Black&quot;</td><td>&quot;F&quot;</td><td>1</td><td>4</td></tr></tbody></table></div>"
      ],
      "text/plain": [
       "shape: (97, 5)\n",
       "┌───────────────┬───────────┬──────────┬───────────┬────────┐\n",
       "│ donor_assets  ┆ race_cell ┆ sex_cell ┆ work_cell ┆ weight │\n",
       "│ ---           ┆ ---       ┆ ---      ┆ ---       ┆ ---    │\n",
       "│ f64           ┆ str       ┆ str      ┆ i32       ┆ i32    │\n",
       "╞═══════════════╪═══════════╪══════════╪═══════════╪════════╡\n",
       "│ 79530.25818   ┆ Black     ┆ F        ┆ 1         ┆ 4      │\n",
       "│ 561138.336172 ┆ Black     ┆ F        ┆ 1         ┆ 2      │\n",
       "│ 609418.686239 ┆ Black     ┆ F        ┆ 1         ┆ 4      │\n",
       "│ 373923.305693 ┆ Black     ┆ F        ┆ 1         ┆ 4      │\n",
       "│ 4254.722994   ┆ Black     ┆ F        ┆ 1         ┆ 1      │\n",
       "│ …             ┆ …         ┆ …        ┆ …         ┆ …      │\n",
       "│ 458574.535186 ┆ Black     ┆ F        ┆ 1         ┆ 4      │\n",
       "│ 518811.999552 ┆ Black     ┆ F        ┆ 1         ┆ 4      │\n",
       "│ 71619.967279  ┆ Black     ┆ F        ┆ 1         ┆ 4      │\n",
       "│ 669546.425818 ┆ Black     ┆ F        ┆ 1         ┆ 1      │\n",
       "│ 244230.051098 ┆ Black     ┆ F        ┆ 1         ┆ 4      │\n",
       "└───────────────┴───────────┴──────────┴───────────┴────────┘"
      ]
     },
     "execution_count": 343,
     "metadata": {},
     "output_type": "execute_result"
    }
   ],
   "source": [
    "# Take a look at donor and recipient after splitting\n",
    "imputer.donor_cells[\"race_cell == 'Black' & sex_cell == 'F' & work_cell == 1\"]"
   ]
  },
  {
   "cell_type": "code",
   "execution_count": 344,
   "metadata": {},
   "outputs": [
    {
     "data": {
      "text/html": [
       "<div><style>\n",
       ".dataframe > thead > tr,\n",
       ".dataframe > tbody > tr {\n",
       "  text-align: right;\n",
       "  white-space: pre-wrap;\n",
       "}\n",
       "</style>\n",
       "<small>shape: (140, 4)</small><table border=\"1\" class=\"dataframe\"><thead><tr><th>race_cell</th><th>sex_cell</th><th>work_cell</th><th>weight</th></tr><tr><td>str</td><td>str</td><td>i32</td><td>i32</td></tr></thead><tbody><tr><td>&quot;Black&quot;</td><td>&quot;F&quot;</td><td>1</td><td>1</td></tr><tr><td>&quot;Black&quot;</td><td>&quot;F&quot;</td><td>1</td><td>1</td></tr><tr><td>&quot;Black&quot;</td><td>&quot;F&quot;</td><td>1</td><td>4</td></tr><tr><td>&quot;Black&quot;</td><td>&quot;F&quot;</td><td>1</td><td>3</td></tr><tr><td>&quot;Black&quot;</td><td>&quot;F&quot;</td><td>1</td><td>4</td></tr><tr><td>&hellip;</td><td>&hellip;</td><td>&hellip;</td><td>&hellip;</td></tr><tr><td>&quot;Black&quot;</td><td>&quot;F&quot;</td><td>1</td><td>4</td></tr><tr><td>&quot;Black&quot;</td><td>&quot;F&quot;</td><td>1</td><td>4</td></tr><tr><td>&quot;Black&quot;</td><td>&quot;F&quot;</td><td>1</td><td>3</td></tr><tr><td>&quot;Black&quot;</td><td>&quot;F&quot;</td><td>1</td><td>2</td></tr><tr><td>&quot;Black&quot;</td><td>&quot;F&quot;</td><td>1</td><td>3</td></tr></tbody></table></div>"
      ],
      "text/plain": [
       "shape: (140, 4)\n",
       "┌───────────┬──────────┬───────────┬────────┐\n",
       "│ race_cell ┆ sex_cell ┆ work_cell ┆ weight │\n",
       "│ ---       ┆ ---      ┆ ---       ┆ ---    │\n",
       "│ str       ┆ str      ┆ i32       ┆ i32    │\n",
       "╞═══════════╪══════════╪═══════════╪════════╡\n",
       "│ Black     ┆ F        ┆ 1         ┆ 1      │\n",
       "│ Black     ┆ F        ┆ 1         ┆ 1      │\n",
       "│ Black     ┆ F        ┆ 1         ┆ 4      │\n",
       "│ Black     ┆ F        ┆ 1         ┆ 3      │\n",
       "│ Black     ┆ F        ┆ 1         ┆ 4      │\n",
       "│ …         ┆ …        ┆ …         ┆ …      │\n",
       "│ Black     ┆ F        ┆ 1         ┆ 4      │\n",
       "│ Black     ┆ F        ┆ 1         ┆ 4      │\n",
       "│ Black     ┆ F        ┆ 1         ┆ 3      │\n",
       "│ Black     ┆ F        ┆ 1         ┆ 2      │\n",
       "│ Black     ┆ F        ┆ 1         ┆ 3      │\n",
       "└───────────┴──────────┴───────────┴────────┘"
      ]
     },
     "execution_count": 344,
     "metadata": {},
     "output_type": "execute_result"
    }
   ],
   "source": [
    "imputer.recipient_cells[\"race_cell == 'Black' & sex_cell == 'F' & work_cell == 1\"]"
   ]
  },
  {
   "cell_type": "code",
   "execution_count": 345,
   "metadata": {},
   "outputs": [
    {
     "data": {
      "text/html": [
       "<div><style>\n",
       ".dataframe > thead > tr,\n",
       ".dataframe > tbody > tr {\n",
       "  text-align: right;\n",
       "  white-space: pre-wrap;\n",
       "}\n",
       "</style>\n",
       "<small>shape: (143, 4)</small><table border=\"1\" class=\"dataframe\"><thead><tr><th>race_cell</th><th>sex_cell</th><th>work_cell</th><th>weight</th></tr><tr><td>str</td><td>str</td><td>i32</td><td>i32</td></tr></thead><tbody><tr><td>&quot;Black&quot;</td><td>&quot;F&quot;</td><td>0</td><td>1</td></tr><tr><td>&quot;Black&quot;</td><td>&quot;F&quot;</td><td>0</td><td>1</td></tr><tr><td>&quot;Black&quot;</td><td>&quot;F&quot;</td><td>0</td><td>3</td></tr><tr><td>&quot;Black&quot;</td><td>&quot;F&quot;</td><td>0</td><td>1</td></tr><tr><td>&quot;Black&quot;</td><td>&quot;F&quot;</td><td>0</td><td>2</td></tr><tr><td>&hellip;</td><td>&hellip;</td><td>&hellip;</td><td>&hellip;</td></tr><tr><td>&quot;Black&quot;</td><td>&quot;F&quot;</td><td>0</td><td>1</td></tr><tr><td>&quot;Black&quot;</td><td>&quot;F&quot;</td><td>0</td><td>2</td></tr><tr><td>&quot;Black&quot;</td><td>&quot;F&quot;</td><td>0</td><td>2</td></tr><tr><td>&quot;Black&quot;</td><td>&quot;F&quot;</td><td>0</td><td>2</td></tr><tr><td>&quot;Black&quot;</td><td>&quot;F&quot;</td><td>0</td><td>1</td></tr></tbody></table></div>"
      ],
      "text/plain": [
       "shape: (143, 4)\n",
       "┌───────────┬──────────┬───────────┬────────┐\n",
       "│ race_cell ┆ sex_cell ┆ work_cell ┆ weight │\n",
       "│ ---       ┆ ---      ┆ ---       ┆ ---    │\n",
       "│ str       ┆ str      ┆ i32       ┆ i32    │\n",
       "╞═══════════╪══════════╪═══════════╪════════╡\n",
       "│ Black     ┆ F        ┆ 0         ┆ 1      │\n",
       "│ Black     ┆ F        ┆ 0         ┆ 1      │\n",
       "│ Black     ┆ F        ┆ 0         ┆ 3      │\n",
       "│ Black     ┆ F        ┆ 0         ┆ 1      │\n",
       "│ Black     ┆ F        ┆ 0         ┆ 2      │\n",
       "│ …         ┆ …        ┆ …         ┆ …      │\n",
       "│ Black     ┆ F        ┆ 0         ┆ 1      │\n",
       "│ Black     ┆ F        ┆ 0         ┆ 2      │\n",
       "│ Black     ┆ F        ┆ 0         ┆ 2      │\n",
       "│ Black     ┆ F        ┆ 0         ┆ 2      │\n",
       "│ Black     ┆ F        ┆ 0         ┆ 1      │\n",
       "└───────────┴──────────┴───────────┴────────┘"
      ]
     },
     "execution_count": 345,
     "metadata": {},
     "output_type": "execute_result"
    }
   ],
   "source": [
    "imputer.recipient_cells[\"race_cell == 'Black' & sex_cell == 'F' & work_cell == 0\"]"
   ]
  },
  {
   "cell_type": "code",
   "execution_count": 346,
   "metadata": {},
   "outputs": [
    {
     "name": "stdout",
     "output_type": "stream",
     "text": [
      "Cell collapsing completed successfully.\n",
      "To rerun with these cells submit imputer.impute() again.\n",
      "Cell collapsing completed successfully.\n",
      "To rerun with these cells submit imputer.impute() again.\n",
      "Cell collapsing completed successfully.\n",
      "To rerun with these cells submit imputer.impute() again.\n",
      "Cell collapsing completed successfully.\n",
      "To rerun with these cells submit imputer.impute() again.\n"
     ]
    },
    {
     "data": {
      "text/plain": [
       "[\"race_cell == 'Asian' & sex_cell == 'M'\",\n",
       " \"race_cell == 'Asian' & sex_cell == 'F'\",\n",
       " \"race_cell == 'Black' & sex_cell == 'F'\",\n",
       " \"race_cell == 'Black' & sex_cell == 'M'\",\n",
       " \"race_cell == 'White' & sex_cell == 'F'\",\n",
       " \"race_cell == 'White' & sex_cell == 'M'\"]"
      ]
     },
     "execution_count": 346,
     "metadata": {},
     "output_type": "execute_result"
    }
   ],
   "source": [
    "# Collapse cell for White and Black folks back to original, without work\n",
    "imputer.collapse_cell(\"race_cell == 'Black' & sex_cell == 'F'\")\n",
    "imputer.collapse_cell(\"race_cell == 'Black' & sex_cell == 'M'\")\n",
    "imputer.collapse_cell(\"race_cell == 'White' & sex_cell == 'F'\")\n",
    "imputer.collapse_cell(\"race_cell == 'White' & sex_cell == 'M'\")\n",
    "\n",
    "imputer.cell_definitions"
   ]
  },
  {
   "cell_type": "markdown",
   "metadata": {},
   "source": [
    "#### Impute Data + Apply Smoothing"
   ]
  },
  {
   "cell_type": "code",
   "execution_count": 347,
   "metadata": {},
   "outputs": [],
   "source": [
    "imputer.impute()"
   ]
  },
  {
   "cell_type": "code",
   "execution_count": 348,
   "metadata": {},
   "outputs": [
    {
     "data": {
      "text/plain": [
       "{\"race_cell == 'Asian' & sex_cell == 'M'\": shape: (259, 5)\n",
       " ┌───────────┬──────────┬───────────┬────────┬──────────────────┐\n",
       " │ race_cell ┆ sex_cell ┆ work_cell ┆ weight ┆ imp_donor_assets │\n",
       " │ ---       ┆ ---      ┆ ---       ┆ ---    ┆ ---              │\n",
       " │ str       ┆ str      ┆ i32       ┆ i32    ┆ f64              │\n",
       " ╞═══════════╪══════════╪═══════════╪════════╪══════════════════╡\n",
       " │ Asian     ┆ M        ┆ 1         ┆ 3      ┆ 451101.699686    │\n",
       " │ Asian     ┆ M        ┆ 0         ┆ 3      ┆ 550789.556253    │\n",
       " │ Asian     ┆ M        ┆ 0         ┆ 1      ┆ 11178.934558     │\n",
       " │ Asian     ┆ M        ┆ 1         ┆ 2      ┆ 136688.209771    │\n",
       " │ Asian     ┆ M        ┆ 1         ┆ 2      ┆ 707104.065442    │\n",
       " │ …         ┆ …        ┆ …         ┆ …      ┆ …                │\n",
       " │ Asian     ┆ M        ┆ 1         ┆ 3      ┆ 309279.524877    │\n",
       " │ Asian     ┆ M        ┆ 0         ┆ 2      ┆ 180557.912147    │\n",
       " │ Asian     ┆ M        ┆ 0         ┆ 2      ┆ 249338.028687    │\n",
       " │ Asian     ┆ M        ┆ 1         ┆ 2      ┆ 524637.519498    │\n",
       " │ Asian     ┆ M        ┆ 1         ┆ 1      ┆ 164344.631107    │\n",
       " └───────────┴──────────┴───────────┴────────┴──────────────────┘,\n",
       " \"race_cell == 'Asian' & sex_cell == 'F'\": shape: (241, 5)\n",
       " ┌───────────┬──────────┬───────────┬────────┬──────────────────┐\n",
       " │ race_cell ┆ sex_cell ┆ work_cell ┆ weight ┆ imp_donor_assets │\n",
       " │ ---       ┆ ---      ┆ ---       ┆ ---    ┆ ---              │\n",
       " │ str       ┆ str      ┆ i32       ┆ i32    ┆ f64              │\n",
       " ╞═══════════╪══════════╪═══════════╪════════╪══════════════════╡\n",
       " │ Asian     ┆ F        ┆ 0         ┆ 3      ┆ 628785.111161    │\n",
       " │ Asian     ┆ F        ┆ 1         ┆ 1      ┆ 16203.17481      │\n",
       " │ Asian     ┆ F        ┆ 1         ┆ 1      ┆ 227193.834155    │\n",
       " │ Asian     ┆ F        ┆ 0         ┆ 2      ┆ 273744.575078    │\n",
       " │ Asian     ┆ F        ┆ 0         ┆ 2      ┆ 471887.328104    │\n",
       " │ …         ┆ …        ┆ …         ┆ …      ┆ …                │\n",
       " │ Asian     ┆ F        ┆ 1         ┆ 1      ┆ 720785.013895    │\n",
       " │ Asian     ┆ F        ┆ 1         ┆ 2      ┆ 365136.660242    │\n",
       " │ Asian     ┆ F        ┆ 1         ┆ 2      ┆ 203473.067683    │\n",
       " │ Asian     ┆ F        ┆ 1         ┆ 4      ┆ 228888.793366    │\n",
       " │ Asian     ┆ F        ┆ 1         ┆ 3      ┆ 644130.700134    │\n",
       " └───────────┴──────────┴───────────┴────────┴──────────────────┘,\n",
       " \"race_cell == 'Black' & sex_cell == 'F'\": shape: (283, 5)\n",
       " ┌───────────┬──────────┬───────────┬────────┬──────────────────┐\n",
       " │ race_cell ┆ sex_cell ┆ work_cell ┆ weight ┆ imp_donor_assets │\n",
       " │ ---       ┆ ---      ┆ ---       ┆ ---    ┆ ---              │\n",
       " │ str       ┆ str      ┆ i32       ┆ i32    ┆ f64              │\n",
       " ╞═══════════╪══════════╪═══════════╪════════╪══════════════════╡\n",
       " │ Black     ┆ F        ┆ 1         ┆ 1      ┆ 498650.069924    │\n",
       " │ Black     ┆ F        ┆ 1         ┆ 1      ┆ 314796.082922    │\n",
       " │ Black     ┆ F        ┆ 1         ┆ 4      ┆ 193215.243837    │\n",
       " │ Black     ┆ F        ┆ 1         ┆ 3      ┆ 562804.420439    │\n",
       " │ Black     ┆ F        ┆ 1         ┆ 4      ┆ 327750.826535    │\n",
       " │ …         ┆ …        ┆ …         ┆ …      ┆ …                │\n",
       " │ Black     ┆ F        ┆ 0         ┆ 1      ┆ 655647.471537    │\n",
       " │ Black     ┆ F        ┆ 0         ┆ 2      ┆ 498228.495742    │\n",
       " │ Black     ┆ F        ┆ 0         ┆ 2      ┆ 257320.506948    │\n",
       " │ Black     ┆ F        ┆ 0         ┆ 2      ┆ 285369.627521    │\n",
       " │ Black     ┆ F        ┆ 0         ┆ 1      ┆ 498650.069924    │\n",
       " └───────────┴──────────┴───────────┴────────┴──────────────────┘,\n",
       " \"race_cell == 'Black' & sex_cell == 'M'\": shape: (226, 5)\n",
       " ┌───────────┬──────────┬───────────┬────────┬──────────────────┐\n",
       " │ race_cell ┆ sex_cell ┆ work_cell ┆ weight ┆ imp_donor_assets │\n",
       " │ ---       ┆ ---      ┆ ---       ┆ ---    ┆ ---              │\n",
       " │ str       ┆ str      ┆ i32       ┆ i32    ┆ f64              │\n",
       " ╞═══════════╪══════════╪═══════════╪════════╪══════════════════╡\n",
       " │ Black     ┆ M        ┆ 1         ┆ 2      ┆ 44042.952039     │\n",
       " │ Black     ┆ M        ┆ 1         ┆ 1      ┆ 461114.086508    │\n",
       " │ Black     ┆ M        ┆ 0         ┆ 1      ┆ 134568.788884    │\n",
       " │ Black     ┆ M        ┆ 0         ┆ 4      ┆ 363320.426266    │\n",
       " │ Black     ┆ M        ┆ 1         ┆ 4      ┆ 314810.520394    │\n",
       " │ …         ┆ …        ┆ …         ┆ …      ┆ …                │\n",
       " │ Black     ┆ M        ┆ 1         ┆ 4      ┆ 531088.181981    │\n",
       " │ Black     ┆ M        ┆ 0         ┆ 3      ┆ 555670.865531    │\n",
       " │ Black     ┆ M        ┆ 1         ┆ 4      ┆ 410402.466159    │\n",
       " │ Black     ┆ M        ┆ 0         ┆ 1      ┆ 629989.196325    │\n",
       " │ Black     ┆ M        ┆ 1         ┆ 2      ┆ 648906.615867    │\n",
       " └───────────┴──────────┴───────────┴────────┴──────────────────┘,\n",
       " \"race_cell == 'White' & sex_cell == 'F'\": shape: (235, 5)\n",
       " ┌───────────┬──────────┬───────────┬────────┬──────────────────┐\n",
       " │ race_cell ┆ sex_cell ┆ work_cell ┆ weight ┆ imp_donor_assets │\n",
       " │ ---       ┆ ---      ┆ ---       ┆ ---    ┆ ---              │\n",
       " │ str       ┆ str      ┆ i32       ┆ i32    ┆ f64              │\n",
       " ╞═══════════╪══════════╪═══════════╪════════╪══════════════════╡\n",
       " │ White     ┆ F        ┆ 0         ┆ 4      ┆ 76125.902286     │\n",
       " │ White     ┆ F        ┆ 0         ┆ 2      ┆ 702326.705961    │\n",
       " │ White     ┆ F        ┆ 0         ┆ 4      ┆ 66288.208875     │\n",
       " │ White     ┆ F        ┆ 0         ┆ 1      ┆ 513831.071717    │\n",
       " │ White     ┆ F        ┆ 0         ┆ 3      ┆ 610293.597042    │\n",
       " │ …         ┆ …        ┆ …         ┆ …      ┆ …                │\n",
       " │ White     ┆ F        ┆ 1         ┆ 2      ┆ 135781.536531    │\n",
       " │ White     ┆ F        ┆ 1         ┆ 3      ┆ 223427.097714    │\n",
       " │ White     ┆ F        ┆ 1         ┆ 2      ┆ 4176.760645      │\n",
       " │ White     ┆ F        ┆ 1         ┆ 4      ┆ 364105.824742    │\n",
       " │ White     ┆ F        ┆ 1         ┆ 2      ┆ 26377.261318     │\n",
       " └───────────┴──────────┴───────────┴────────┴──────────────────┘,\n",
       " \"race_cell == 'White' & sex_cell == 'M'\": shape: (256, 5)\n",
       " ┌───────────┬──────────┬───────────┬────────┬──────────────────┐\n",
       " │ race_cell ┆ sex_cell ┆ work_cell ┆ weight ┆ imp_donor_assets │\n",
       " │ ---       ┆ ---      ┆ ---       ┆ ---    ┆ ---              │\n",
       " │ str       ┆ str      ┆ i32       ┆ i32    ┆ f64              │\n",
       " ╞═══════════╪══════════╪═══════════╪════════╪══════════════════╡\n",
       " │ White     ┆ M        ┆ 0         ┆ 4      ┆ 192481.82026     │\n",
       " │ White     ┆ M        ┆ 1         ┆ 1      ┆ 226295.823398    │\n",
       " │ White     ┆ M        ┆ 0         ┆ 3      ┆ 71198.393097     │\n",
       " │ White     ┆ M        ┆ 1         ┆ 1      ┆ 194350.029135    │\n",
       " │ White     ┆ M        ┆ 1         ┆ 3      ┆ 35715.418198     │\n",
       " │ …         ┆ …        ┆ …         ┆ …      ┆ …                │\n",
       " │ White     ┆ M        ┆ 1         ┆ 4      ┆ 208110.383684    │\n",
       " │ White     ┆ M        ┆ 1         ┆ 2      ┆ 13784.898252     │\n",
       " │ White     ┆ M        ┆ 0         ┆ 3      ┆ 604352.57732     │\n",
       " │ White     ┆ M        ┆ 1         ┆ 3      ┆ 682495.394442    │\n",
       " │ White     ┆ M        ┆ 0         ┆ 1      ┆ 37746.770506     │\n",
       " └───────────┴──────────┴───────────┴────────┴──────────────────┘}"
      ]
     },
     "execution_count": 348,
     "metadata": {},
     "output_type": "execute_result"
    }
   ],
   "source": [
    "# Notice imp_donor_assets has been added to recipient cells\n",
    "imputer.recipient_cells"
   ]
  },
  {
   "cell_type": "code",
   "execution_count": 349,
   "metadata": {},
   "outputs": [
    {
     "data": {
      "text/html": [
       "<div><style>\n",
       ".dataframe > thead > tr,\n",
       ".dataframe > tbody > tr {\n",
       "  text-align: right;\n",
       "  white-space: pre-wrap;\n",
       "}\n",
       "</style>\n",
       "<small>shape: (1_500, 5)</small><table border=\"1\" class=\"dataframe\"><thead><tr><th>race_cell</th><th>sex_cell</th><th>work_cell</th><th>weight</th><th>imp_donor_assets</th></tr><tr><td>str</td><td>str</td><td>i32</td><td>i32</td><td>f64</td></tr></thead><tbody><tr><td>&quot;Asian&quot;</td><td>&quot;M&quot;</td><td>1</td><td>3</td><td>451101.699686</td></tr><tr><td>&quot;Asian&quot;</td><td>&quot;M&quot;</td><td>0</td><td>3</td><td>550789.556253</td></tr><tr><td>&quot;Asian&quot;</td><td>&quot;M&quot;</td><td>0</td><td>1</td><td>11178.934558</td></tr><tr><td>&quot;Asian&quot;</td><td>&quot;M&quot;</td><td>1</td><td>2</td><td>136688.209771</td></tr><tr><td>&quot;Asian&quot;</td><td>&quot;M&quot;</td><td>1</td><td>2</td><td>707104.065442</td></tr><tr><td>&hellip;</td><td>&hellip;</td><td>&hellip;</td><td>&hellip;</td><td>&hellip;</td></tr><tr><td>&quot;White&quot;</td><td>&quot;M&quot;</td><td>1</td><td>4</td><td>208110.383684</td></tr><tr><td>&quot;White&quot;</td><td>&quot;M&quot;</td><td>1</td><td>2</td><td>13784.898252</td></tr><tr><td>&quot;White&quot;</td><td>&quot;M&quot;</td><td>0</td><td>3</td><td>604352.57732</td></tr><tr><td>&quot;White&quot;</td><td>&quot;M&quot;</td><td>1</td><td>3</td><td>682495.394442</td></tr><tr><td>&quot;White&quot;</td><td>&quot;M&quot;</td><td>0</td><td>1</td><td>37746.770506</td></tr></tbody></table></div>"
      ],
      "text/plain": [
       "shape: (1_500, 5)\n",
       "┌───────────┬──────────┬───────────┬────────┬──────────────────┐\n",
       "│ race_cell ┆ sex_cell ┆ work_cell ┆ weight ┆ imp_donor_assets │\n",
       "│ ---       ┆ ---      ┆ ---       ┆ ---    ┆ ---              │\n",
       "│ str       ┆ str      ┆ i32       ┆ i32    ┆ f64              │\n",
       "╞═══════════╪══════════╪═══════════╪════════╪══════════════════╡\n",
       "│ Asian     ┆ M        ┆ 1         ┆ 3      ┆ 451101.699686    │\n",
       "│ Asian     ┆ M        ┆ 0         ┆ 3      ┆ 550789.556253    │\n",
       "│ Asian     ┆ M        ┆ 0         ┆ 1      ┆ 11178.934558     │\n",
       "│ Asian     ┆ M        ┆ 1         ┆ 2      ┆ 136688.209771    │\n",
       "│ Asian     ┆ M        ┆ 1         ┆ 2      ┆ 707104.065442    │\n",
       "│ …         ┆ …        ┆ …         ┆ …      ┆ …                │\n",
       "│ White     ┆ M        ┆ 1         ┆ 4      ┆ 208110.383684    │\n",
       "│ White     ┆ M        ┆ 1         ┆ 2      ┆ 13784.898252     │\n",
       "│ White     ┆ M        ┆ 0         ┆ 3      ┆ 604352.57732     │\n",
       "│ White     ┆ M        ┆ 1         ┆ 3      ┆ 682495.394442    │\n",
       "│ White     ┆ M        ┆ 0         ┆ 1      ┆ 37746.770506     │\n",
       "└───────────┴──────────┴───────────┴────────┴──────────────────┘"
      ]
     },
     "execution_count": 349,
     "metadata": {},
     "output_type": "execute_result"
    }
   ],
   "source": [
    "imputer.recipient_data"
   ]
  },
  {
   "cell_type": "code",
   "execution_count": 350,
   "metadata": {},
   "outputs": [],
   "source": [
    "# To smooth out clusters, you can add random noise proportional to the standard deviation of the variable \n",
    "# and set a floor value that the noise cannot send a value below (to avoid negative or impossible values)\n",
    "imputer.apply_random_noise(variation_stdev = (1/6), floor_noise = 1.5)"
   ]
  },
  {
   "cell_type": "code",
   "execution_count": 351,
   "metadata": {},
   "outputs": [
    {
     "data": {
      "text/plain": [
       "0.16666666666666666"
      ]
     },
     "execution_count": 351,
     "metadata": {},
     "output_type": "execute_result"
    }
   ],
   "source": [
    "# Take a look at the random noise used, initialized after above function is called\n",
    "imputer.random_noise"
   ]
  },
  {
   "cell_type": "markdown",
   "metadata": {},
   "source": [
    "#### Examine Results"
   ]
  },
  {
   "cell_type": "code",
   "execution_count": 352,
   "metadata": {},
   "outputs": [
    {
     "data": {
      "text/plain": [
       "['donor_assets', 'race_cell', 'sex_cell', 'work_cell', 'weight']"
      ]
     },
     "execution_count": 352,
     "metadata": {},
     "output_type": "execute_result"
    }
   ],
   "source": [
    "imputer.donor_data.columns"
   ]
  },
  {
   "cell_type": "code",
   "execution_count": 353,
   "metadata": {},
   "outputs": [
    {
     "data": {
      "text/plain": [
       "{'mean': 352122.1382765577,\n",
       " 'median': 338820.7581801883,\n",
       " 'min': 1754.152846257284,\n",
       " 'max': 721607.9497982968,\n",
       " 'std_dev': 210173.6902781132,\n",
       " 'count': 1000,\n",
       " 'missing_values': 0}"
      ]
     },
     "execution_count": 353,
     "metadata": {},
     "output_type": "execute_result"
    }
   ],
   "source": [
    "imputer.summarize_column(imputer.donor_data, 'donor_assets')"
   ]
  },
  {
   "cell_type": "code",
   "execution_count": 354,
   "metadata": {},
   "outputs": [
    {
     "data": {
      "text/plain": [
       "{'mean': 356183.56830284355,\n",
       " 'median': 346654.14367920253,\n",
       " 'min': 2083.449215133658,\n",
       " 'max': 721348.5039757363,\n",
       " 'std_dev': 208889.3052314998,\n",
       " 'count': 1500,\n",
       " 'missing_values': 0}"
      ]
     },
     "execution_count": 354,
     "metadata": {},
     "output_type": "execute_result"
    }
   ],
   "source": [
    "imputer.summarize_column(imputer.recipient_data, 'imp_donor_assets')"
   ]
  },
  {
   "cell_type": "code",
   "execution_count": 355,
   "metadata": {},
   "outputs": [
    {
     "data": {
      "image/png": "[encoded data removed]",
      "text/plain": [
       "<Figure size 640x480 with 1 Axes>"
      ]
     },
     "metadata": {},
     "output_type": "display_data"
    }
   ],
   "source": [
    "# Compare the input to the output in the process\n",
    "plot_data = imputer.recipient_data[['weight','imp_donor_assets']]\n",
    "plot_data_donor = imputer.donor_data[['weight','donor_assets']]\n",
    "\n",
    "# Create a weighted histogram plot for donor data\n",
    "sns.kdeplot(data=plot_data_donor, x='donor_assets', weights='weight', color='green', label='Donor', alpha=0.5)\n",
    "\n",
    "# Create a weighted histogram plot for recipient data\n",
    "sns.kdeplot(data=plot_data, x='imp_donor_assets', weights='weight', color='blue', label='Recipient', alpha=0.5)\n",
    "\n",
    "# Add titles and labels\n",
    "plt.title('Liquid assets post noise injection')\n",
    "plt.xlabel('Liquid Assets Value')\n",
    "plt.ylabel('Weighted Density')\n",
    "\n",
    "# Add a legend to differentiate between recipient and donor data\n",
    "plt.legend()\n",
    "\n",
    "# Show the plot\n",
    "plt.show()"
   ]
  },
  {
   "cell_type": "code",
   "execution_count": 48,
   "metadata": {},
   "outputs": [
    {
     "name": "stdout",
     "output_type": "stream",
     "text": [
      "Cell data written to '.\\hot_deck_stats.xlsx'.\n"
     ]
    }
   ],
   "source": [
    "imputer.gen_analysis_file('hot_deck_stats', '')"
   ]
  }
 ],
 "metadata": {
  "kernelspec": {
   "display_name": ".venv",
   "language": "python",
   "name": "python3"
  },
  "language_info": {
   "codemirror_mode": {
    "name": "ipython",
    "version": 3
   },
   "file_extension": ".py",
   "mimetype": "text/x-python",
   "name": "python",
   "nbconvert_exporter": "python",
   "pygments_lexer": "ipython3",
   "version": "3.12.4"
  }
 },
 "nbformat": 4,
 "nbformat_minor": 2
}
