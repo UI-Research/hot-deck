{
 "cells": [
  {
   "cell_type": "markdown",
   "metadata": {},
   "source": [
    "### Example Implementation\n",
    "This file goes through every step of the process, using features available to HotDeckImputer."
   ]
  },
  {
   "cell_type": "code",
   "execution_count": 1,
   "metadata": {},
   "outputs": [],
   "source": [
    "from hot_deck_imputer import HotDeckImputer\n",
    "import polars as pl\n",
    "import numpy as np\n",
    "import seaborn as sns\n",
    "import matplotlib.pyplot as plt"
   ]
  },
  {
   "cell_type": "markdown",
   "metadata": {},
   "source": [
    "#### Generate Data"
   ]
  },
  {
   "cell_type": "code",
   "execution_count": 2,
   "metadata": {},
   "outputs": [],
   "source": [
    "# Create possibilities for race, sex, and work\n",
    "race_categories = ['Black', 'White']\n",
    "sex_categories = ['M', 'F']\n",
    "work_categories = [0, 1]\n",
    "np.random.seed(42)  # For reproducibility\n",
    "\n",
    "# Generate polars frames\n",
    "donor_data = {\n",
    "    'donor_assets': [50000, 20000, 300000, 2000, \n",
    "                     10000, 10000, 200, 2000, 4000, 500000],\n",
    "    'race_cell': ['Black','Black','Black','White','White',\n",
    "                     'White','Black','White','Black','Black'],\n",
    "    'sex_cell': ['M','F','F','M','F',\n",
    "                     'M','F','F','M','F'],\n",
    "    'work_cell': [1,0,1,0,1,\n",
    "                     0,1,1,1,0],\n",
    "    'weight': [1, 2, 1, 2, 1,\n",
    "               2, 1, 2, 1, 2]\n",
    "}\n",
    "\n",
    "donor_data = pl.DataFrame(donor_data)\n",
    "\n",
    "recipient_data = {\n",
    "    'race_cell': ['Black','Black','Black','White','White',\n",
    "                     'White','Black','White','Black','Black','Black','Black','White','White'],\n",
    "    'sex_cell': ['M','F','F','M','F',\n",
    "                     'M','F','F','M','F', 'F', 'M', 'M', 'F'],\n",
    "    'work_cell': [1,0,1,0,1,\n",
    "                     0,1,1,1,0,0,1,0,1],\n",
    "    'weight': [1, 3, 2, 3, 2,\n",
    "               1, 4, 2, 1, 3, 4, 2, 1, 1]\n",
    "}\n",
    "\n",
    "recipient_data = pl.DataFrame(recipient_data)"
   ]
  },
  {
   "cell_type": "markdown",
   "metadata": {},
   "source": [
    "#### Create Imputer + Define Cells"
   ]
  },
  {
   "cell_type": "code",
   "execution_count": 3,
   "metadata": {},
   "outputs": [],
   "source": [
    "imputer = HotDeckImputer(donor_data = donor_data, \n",
    "                         imputation_var = 'donor_assets', \n",
    "                         weight_var = 'weight', \n",
    "                         recipient_data = recipient_data)"
   ]
  },
  {
   "cell_type": "code",
   "execution_count": 4,
   "metadata": {},
   "outputs": [
    {
     "name": "stdout",
     "output_type": "stream",
     "text": [
      "Summary of donor_assets pre CPI aging:\n",
      "{'mean': 89820.0, 'median': 10000.0, 'min': 200, 'max': 500000, 'std_dev': 170765.50393253707, 'count': 10, 'missing_values': 0}\n",
      "Summary of donor_assets post CPI aging:\n",
      "{'mean': 129677.37337516811, 'median': 14437.471985656657, 'min': 288.74943971313314, 'max': 721873.5992828329, 'std_dev': 246542.2179142546, 'count': 10, 'missing_values': 0}\n"
     ]
    }
   ],
   "source": [
    "# If you are imputing from one dataset to another across years, this will adjust the donor data to the recipient year\n",
    "imputer.age_dollar_amounts(donor_year_cpi = 223.1, imp_year_cpi = 322.1)"
   ]
  },
  {
   "cell_type": "code",
   "execution_count": 5,
   "metadata": {},
   "outputs": [
    {
     "data": {
      "text/plain": [
       "[\"race_cell == 'Black' & sex_cell == 'M'\",\n",
       " \"race_cell == 'Black' & sex_cell == 'F'\",\n",
       " \"race_cell == 'White' & sex_cell == 'M'\",\n",
       " \"race_cell == 'White' & sex_cell == 'F'\"]"
      ]
     },
     "execution_count": 5,
     "metadata": {},
     "output_type": "execute_result"
    }
   ],
   "source": [
    "# The variables create cells held in imputer.donor_cells, a dictionary.\n",
    "# These cells divide the data according to every unique combination of the variables. \n",
    "# Key: combination of variables defining cell, Value: pl.DataFrame of data in that cell\n",
    "variables = ['race_cell','sex_cell']\n",
    "\n",
    "imputer.define_cells(variables)\n",
    "\n",
    "# Take a look at cell definitions\n",
    "imputer.cell_definitions"
   ]
  },
  {
   "cell_type": "code",
   "execution_count": 6,
   "metadata": {},
   "outputs": [],
   "source": [
    "# Create the cells after defining them, assuming above looks right\n",
    "imputer.generate_cells()"
   ]
  },
  {
   "cell_type": "code",
   "execution_count": 7,
   "metadata": {},
   "outputs": [
    {
     "data": {
      "text/plain": [
       "{\"race_cell == 'Black' & sex_cell == 'M'\": shape: (3, 4)\n",
       " ┌───────────┬──────────┬───────────┬────────┐\n",
       " │ race_cell ┆ sex_cell ┆ work_cell ┆ weight │\n",
       " │ ---       ┆ ---      ┆ ---       ┆ ---    │\n",
       " │ str       ┆ str      ┆ i64       ┆ i64    │\n",
       " ╞═══════════╪══════════╪═══════════╪════════╡\n",
       " │ Black     ┆ M        ┆ 1         ┆ 1      │\n",
       " │ Black     ┆ M        ┆ 1         ┆ 1      │\n",
       " │ Black     ┆ M        ┆ 1         ┆ 2      │\n",
       " └───────────┴──────────┴───────────┴────────┘,\n",
       " \"race_cell == 'Black' & sex_cell == 'F'\": shape: (5, 4)\n",
       " ┌───────────┬──────────┬───────────┬────────┐\n",
       " │ race_cell ┆ sex_cell ┆ work_cell ┆ weight │\n",
       " │ ---       ┆ ---      ┆ ---       ┆ ---    │\n",
       " │ str       ┆ str      ┆ i64       ┆ i64    │\n",
       " ╞═══════════╪══════════╪═══════════╪════════╡\n",
       " │ Black     ┆ F        ┆ 0         ┆ 3      │\n",
       " │ Black     ┆ F        ┆ 1         ┆ 2      │\n",
       " │ Black     ┆ F        ┆ 1         ┆ 4      │\n",
       " │ Black     ┆ F        ┆ 0         ┆ 3      │\n",
       " │ Black     ┆ F        ┆ 0         ┆ 4      │\n",
       " └───────────┴──────────┴───────────┴────────┘,\n",
       " \"race_cell == 'White' & sex_cell == 'M'\": shape: (3, 4)\n",
       " ┌───────────┬──────────┬───────────┬────────┐\n",
       " │ race_cell ┆ sex_cell ┆ work_cell ┆ weight │\n",
       " │ ---       ┆ ---      ┆ ---       ┆ ---    │\n",
       " │ str       ┆ str      ┆ i64       ┆ i64    │\n",
       " ╞═══════════╪══════════╪═══════════╪════════╡\n",
       " │ White     ┆ M        ┆ 0         ┆ 3      │\n",
       " │ White     ┆ M        ┆ 0         ┆ 1      │\n",
       " │ White     ┆ M        ┆ 0         ┆ 1      │\n",
       " └───────────┴──────────┴───────────┴────────┘,\n",
       " \"race_cell == 'White' & sex_cell == 'F'\": shape: (3, 4)\n",
       " ┌───────────┬──────────┬───────────┬────────┐\n",
       " │ race_cell ┆ sex_cell ┆ work_cell ┆ weight │\n",
       " │ ---       ┆ ---      ┆ ---       ┆ ---    │\n",
       " │ str       ┆ str      ┆ i64       ┆ i64    │\n",
       " ╞═══════════╪══════════╪═══════════╪════════╡\n",
       " │ White     ┆ F        ┆ 1         ┆ 2      │\n",
       " │ White     ┆ F        ┆ 1         ┆ 2      │\n",
       " │ White     ┆ F        ┆ 1         ┆ 1      │\n",
       " └───────────┴──────────┴───────────┴────────┘}"
      ]
     },
     "execution_count": 7,
     "metadata": {},
     "output_type": "execute_result"
    }
   ],
   "source": [
    "# Take a look at the recipient cells\n",
    "imputer.recipient_cells"
   ]
  },
  {
   "cell_type": "code",
   "execution_count": 8,
   "metadata": {},
   "outputs": [
    {
     "data": {
      "text/plain": [
       "{\"race_cell == 'Black' & sex_cell == 'M'\": shape: (2, 5)\n",
       " ┌──────────────┬───────────┬──────────┬───────────┬────────┐\n",
       " │ donor_assets ┆ race_cell ┆ sex_cell ┆ work_cell ┆ weight │\n",
       " │ ---          ┆ ---       ┆ ---      ┆ ---       ┆ ---    │\n",
       " │ f64          ┆ str       ┆ str      ┆ i64       ┆ i64    │\n",
       " ╞══════════════╪═══════════╪══════════╪═══════════╪════════╡\n",
       " │ 72187.359928 ┆ Black     ┆ M        ┆ 1         ┆ 1      │\n",
       " │ 5774.988794  ┆ Black     ┆ M        ┆ 1         ┆ 1      │\n",
       " └──────────────┴───────────┴──────────┴───────────┴────────┘,\n",
       " \"race_cell == 'Black' & sex_cell == 'F'\": shape: (4, 5)\n",
       " ┌───────────────┬───────────┬──────────┬───────────┬────────┐\n",
       " │ donor_assets  ┆ race_cell ┆ sex_cell ┆ work_cell ┆ weight │\n",
       " │ ---           ┆ ---       ┆ ---      ┆ ---       ┆ ---    │\n",
       " │ f64           ┆ str       ┆ str      ┆ i64       ┆ i64    │\n",
       " ╞═══════════════╪═══════════╪══════════╪═══════════╪════════╡\n",
       " │ 28874.943971  ┆ Black     ┆ F        ┆ 0         ┆ 2      │\n",
       " │ 433124.15957  ┆ Black     ┆ F        ┆ 1         ┆ 1      │\n",
       " │ 288.74944     ┆ Black     ┆ F        ┆ 1         ┆ 1      │\n",
       " │ 721873.599283 ┆ Black     ┆ F        ┆ 0         ┆ 2      │\n",
       " └───────────────┴───────────┴──────────┴───────────┴────────┘,\n",
       " \"race_cell == 'White' & sex_cell == 'M'\": shape: (2, 5)\n",
       " ┌──────────────┬───────────┬──────────┬───────────┬────────┐\n",
       " │ donor_assets ┆ race_cell ┆ sex_cell ┆ work_cell ┆ weight │\n",
       " │ ---          ┆ ---       ┆ ---      ┆ ---       ┆ ---    │\n",
       " │ f64          ┆ str       ┆ str      ┆ i64       ┆ i64    │\n",
       " ╞══════════════╪═══════════╪══════════╪═══════════╪════════╡\n",
       " │ 2887.494397  ┆ White     ┆ M        ┆ 0         ┆ 2      │\n",
       " │ 14437.471986 ┆ White     ┆ M        ┆ 0         ┆ 2      │\n",
       " └──────────────┴───────────┴──────────┴───────────┴────────┘,\n",
       " \"race_cell == 'White' & sex_cell == 'F'\": shape: (2, 5)\n",
       " ┌──────────────┬───────────┬──────────┬───────────┬────────┐\n",
       " │ donor_assets ┆ race_cell ┆ sex_cell ┆ work_cell ┆ weight │\n",
       " │ ---          ┆ ---       ┆ ---      ┆ ---       ┆ ---    │\n",
       " │ f64          ┆ str       ┆ str      ┆ i64       ┆ i64    │\n",
       " ╞══════════════╪═══════════╪══════════╪═══════════╪════════╡\n",
       " │ 14437.471986 ┆ White     ┆ F        ┆ 1         ┆ 1      │\n",
       " │ 2887.494397  ┆ White     ┆ F        ┆ 1         ┆ 2      │\n",
       " └──────────────┴───────────┴──────────┴───────────┴────────┘}"
      ]
     },
     "execution_count": 8,
     "metadata": {},
     "output_type": "execute_result"
    }
   ],
   "source": [
    "# Take a look at donor cells\n",
    "imputer.donor_cells"
   ]
  },
  {
   "cell_type": "code",
   "execution_count": 9,
   "metadata": {},
   "outputs": [],
   "source": [
    "# After deciding that you want to split on work_cell for Black Women, you can do the following\n",
    "imputer.split_cell(\"race_cell == 'Black' & sex_cell == 'F'\", \"work_cell\")\n"
   ]
  },
  {
   "cell_type": "code",
   "execution_count": 10,
   "metadata": {},
   "outputs": [
    {
     "data": {
      "text/plain": [
       "[\"race_cell == 'Black' & sex_cell == 'M'\",\n",
       " \"race_cell == 'White' & sex_cell == 'M'\",\n",
       " \"race_cell == 'White' & sex_cell == 'F'\",\n",
       " \"race_cell == 'Black' & sex_cell == 'F' & work_cell == 0\",\n",
       " \"race_cell == 'Black' & sex_cell == 'F' & work_cell == 1\"]"
      ]
     },
     "execution_count": 10,
     "metadata": {},
     "output_type": "execute_result"
    }
   ],
   "source": [
    "# Cell definitions have changed, as have donor cells\n",
    "imputer.cell_definitions"
   ]
  },
  {
   "cell_type": "code",
   "execution_count": 11,
   "metadata": {},
   "outputs": [
    {
     "data": {
      "text/html": [
       "<div><style>\n",
       ".dataframe > thead > tr,\n",
       ".dataframe > tbody > tr {\n",
       "  text-align: right;\n",
       "  white-space: pre-wrap;\n",
       "}\n",
       "</style>\n",
       "<small>shape: (2, 5)</small><table border=\"1\" class=\"dataframe\"><thead><tr><th>donor_assets</th><th>race_cell</th><th>sex_cell</th><th>work_cell</th><th>weight</th></tr><tr><td>f64</td><td>str</td><td>str</td><td>i64</td><td>i64</td></tr></thead><tbody><tr><td>433124.15957</td><td>&quot;Black&quot;</td><td>&quot;F&quot;</td><td>1</td><td>1</td></tr><tr><td>288.74944</td><td>&quot;Black&quot;</td><td>&quot;F&quot;</td><td>1</td><td>1</td></tr></tbody></table></div>"
      ],
      "text/plain": [
       "shape: (2, 5)\n",
       "┌──────────────┬───────────┬──────────┬───────────┬────────┐\n",
       "│ donor_assets ┆ race_cell ┆ sex_cell ┆ work_cell ┆ weight │\n",
       "│ ---          ┆ ---       ┆ ---      ┆ ---       ┆ ---    │\n",
       "│ f64          ┆ str       ┆ str      ┆ i64       ┆ i64    │\n",
       "╞══════════════╪═══════════╪══════════╪═══════════╪════════╡\n",
       "│ 433124.15957 ┆ Black     ┆ F        ┆ 1         ┆ 1      │\n",
       "│ 288.74944    ┆ Black     ┆ F        ┆ 1         ┆ 1      │\n",
       "└──────────────┴───────────┴──────────┴───────────┴────────┘"
      ]
     },
     "execution_count": 11,
     "metadata": {},
     "output_type": "execute_result"
    }
   ],
   "source": [
    "# Take a look at donor and recipient after splitting\n",
    "imputer.donor_cells[\"race_cell == 'Black' & sex_cell == 'F' & work_cell == 1\"]"
   ]
  },
  {
   "cell_type": "code",
   "execution_count": 12,
   "metadata": {},
   "outputs": [
    {
     "data": {
      "text/html": [
       "<div><style>\n",
       ".dataframe > thead > tr,\n",
       ".dataframe > tbody > tr {\n",
       "  text-align: right;\n",
       "  white-space: pre-wrap;\n",
       "}\n",
       "</style>\n",
       "<small>shape: (2, 4)</small><table border=\"1\" class=\"dataframe\"><thead><tr><th>race_cell</th><th>sex_cell</th><th>work_cell</th><th>weight</th></tr><tr><td>str</td><td>str</td><td>i64</td><td>i64</td></tr></thead><tbody><tr><td>&quot;Black&quot;</td><td>&quot;F&quot;</td><td>1</td><td>2</td></tr><tr><td>&quot;Black&quot;</td><td>&quot;F&quot;</td><td>1</td><td>4</td></tr></tbody></table></div>"
      ],
      "text/plain": [
       "shape: (2, 4)\n",
       "┌───────────┬──────────┬───────────┬────────┐\n",
       "│ race_cell ┆ sex_cell ┆ work_cell ┆ weight │\n",
       "│ ---       ┆ ---      ┆ ---       ┆ ---    │\n",
       "│ str       ┆ str      ┆ i64       ┆ i64    │\n",
       "╞═══════════╪══════════╪═══════════╪════════╡\n",
       "│ Black     ┆ F        ┆ 1         ┆ 2      │\n",
       "│ Black     ┆ F        ┆ 1         ┆ 4      │\n",
       "└───────────┴──────────┴───────────┴────────┘"
      ]
     },
     "execution_count": 12,
     "metadata": {},
     "output_type": "execute_result"
    }
   ],
   "source": [
    "imputer.recipient_cells[\"race_cell == 'Black' & sex_cell == 'F' & work_cell == 1\"]"
   ]
  },
  {
   "cell_type": "code",
   "execution_count": 13,
   "metadata": {},
   "outputs": [
    {
     "data": {
      "text/html": [
       "<div><style>\n",
       ".dataframe > thead > tr,\n",
       ".dataframe > tbody > tr {\n",
       "  text-align: right;\n",
       "  white-space: pre-wrap;\n",
       "}\n",
       "</style>\n",
       "<small>shape: (3, 4)</small><table border=\"1\" class=\"dataframe\"><thead><tr><th>race_cell</th><th>sex_cell</th><th>work_cell</th><th>weight</th></tr><tr><td>str</td><td>str</td><td>i64</td><td>i64</td></tr></thead><tbody><tr><td>&quot;Black&quot;</td><td>&quot;F&quot;</td><td>0</td><td>3</td></tr><tr><td>&quot;Black&quot;</td><td>&quot;F&quot;</td><td>0</td><td>3</td></tr><tr><td>&quot;Black&quot;</td><td>&quot;F&quot;</td><td>0</td><td>4</td></tr></tbody></table></div>"
      ],
      "text/plain": [
       "shape: (3, 4)\n",
       "┌───────────┬──────────┬───────────┬────────┐\n",
       "│ race_cell ┆ sex_cell ┆ work_cell ┆ weight │\n",
       "│ ---       ┆ ---      ┆ ---       ┆ ---    │\n",
       "│ str       ┆ str      ┆ i64       ┆ i64    │\n",
       "╞═══════════╪══════════╪═══════════╪════════╡\n",
       "│ Black     ┆ F        ┆ 0         ┆ 3      │\n",
       "│ Black     ┆ F        ┆ 0         ┆ 3      │\n",
       "│ Black     ┆ F        ┆ 0         ┆ 4      │\n",
       "└───────────┴──────────┴───────────┴────────┘"
      ]
     },
     "execution_count": 13,
     "metadata": {},
     "output_type": "execute_result"
    }
   ],
   "source": [
    "imputer.recipient_cells[\"race_cell == 'Black' & sex_cell == 'F' & work_cell == 0\"]"
   ]
  },
  {
   "cell_type": "markdown",
   "metadata": {},
   "source": [
    "#### Impute Data + Apply Smoothing"
   ]
  },
  {
   "cell_type": "code",
   "execution_count": 14,
   "metadata": {},
   "outputs": [],
   "source": [
    "imputer.impute()"
   ]
  },
  {
   "cell_type": "code",
   "execution_count": 15,
   "metadata": {},
   "outputs": [
    {
     "data": {
      "text/plain": [
       "{\"race_cell == 'Black' & sex_cell == 'M'\": shape: (3, 5)\n",
       " ┌───────────┬──────────┬───────────┬────────┬──────────────────┐\n",
       " │ race_cell ┆ sex_cell ┆ work_cell ┆ weight ┆ imp_donor_assets │\n",
       " │ ---       ┆ ---      ┆ ---       ┆ ---    ┆ ---              │\n",
       " │ str       ┆ str      ┆ i64       ┆ i64    ┆ f64              │\n",
       " ╞═══════════╪══════════╪═══════════╪════════╪══════════════════╡\n",
       " │ Black     ┆ M        ┆ 1         ┆ 1      ┆ 5774.988794      │\n",
       " │ Black     ┆ M        ┆ 1         ┆ 1      ┆ 5774.988794      │\n",
       " │ Black     ┆ M        ┆ 1         ┆ 2      ┆ 72187.359928     │\n",
       " └───────────┴──────────┴───────────┴────────┴──────────────────┘,\n",
       " \"race_cell == 'White' & sex_cell == 'M'\": shape: (3, 5)\n",
       " ┌───────────┬──────────┬───────────┬────────┬──────────────────┐\n",
       " │ race_cell ┆ sex_cell ┆ work_cell ┆ weight ┆ imp_donor_assets │\n",
       " │ ---       ┆ ---      ┆ ---       ┆ ---    ┆ ---              │\n",
       " │ str       ┆ str      ┆ i64       ┆ i64    ┆ f64              │\n",
       " ╞═══════════╪══════════╪═══════════╪════════╪══════════════════╡\n",
       " │ White     ┆ M        ┆ 0         ┆ 3      ┆ 14437.471986     │\n",
       " │ White     ┆ M        ┆ 0         ┆ 1      ┆ 2887.494397      │\n",
       " │ White     ┆ M        ┆ 0         ┆ 1      ┆ 2887.494397      │\n",
       " └───────────┴──────────┴───────────┴────────┴──────────────────┘,\n",
       " \"race_cell == 'White' & sex_cell == 'F'\": shape: (3, 5)\n",
       " ┌───────────┬──────────┬───────────┬────────┬──────────────────┐\n",
       " │ race_cell ┆ sex_cell ┆ work_cell ┆ weight ┆ imp_donor_assets │\n",
       " │ ---       ┆ ---      ┆ ---       ┆ ---    ┆ ---              │\n",
       " │ str       ┆ str      ┆ i64       ┆ i64    ┆ f64              │\n",
       " ╞═══════════╪══════════╪═══════════╪════════╪══════════════════╡\n",
       " │ White     ┆ F        ┆ 1         ┆ 2      ┆ 2887.494397      │\n",
       " │ White     ┆ F        ┆ 1         ┆ 2      ┆ 14437.471986     │\n",
       " │ White     ┆ F        ┆ 1         ┆ 1      ┆ 2887.494397      │\n",
       " └───────────┴──────────┴───────────┴────────┴──────────────────┘,\n",
       " \"race_cell == 'Black' & sex_cell == 'F' & work_cell == 0\": shape: (3, 5)\n",
       " ┌───────────┬──────────┬───────────┬────────┬──────────────────┐\n",
       " │ race_cell ┆ sex_cell ┆ work_cell ┆ weight ┆ imp_donor_assets │\n",
       " │ ---       ┆ ---      ┆ ---       ┆ ---    ┆ ---              │\n",
       " │ str       ┆ str      ┆ i64       ┆ i64    ┆ f64              │\n",
       " ╞═══════════╪══════════╪═══════════╪════════╪══════════════════╡\n",
       " │ Black     ┆ F        ┆ 0         ┆ 3      ┆ 28874.943971     │\n",
       " │ Black     ┆ F        ┆ 0         ┆ 3      ┆ 28874.943971     │\n",
       " │ Black     ┆ F        ┆ 0         ┆ 4      ┆ 28874.943971     │\n",
       " └───────────┴──────────┴───────────┴────────┴──────────────────┘,\n",
       " \"race_cell == 'Black' & sex_cell == 'F' & work_cell == 1\": shape: (2, 5)\n",
       " ┌───────────┬──────────┬───────────┬────────┬──────────────────┐\n",
       " │ race_cell ┆ sex_cell ┆ work_cell ┆ weight ┆ imp_donor_assets │\n",
       " │ ---       ┆ ---      ┆ ---       ┆ ---    ┆ ---              │\n",
       " │ str       ┆ str      ┆ i64       ┆ i64    ┆ f64              │\n",
       " ╞═══════════╪══════════╪═══════════╪════════╪══════════════════╡\n",
       " │ Black     ┆ F        ┆ 1         ┆ 2      ┆ 433124.15957     │\n",
       " │ Black     ┆ F        ┆ 1         ┆ 4      ┆ 288.74944        │\n",
       " └───────────┴──────────┴───────────┴────────┴──────────────────┘}"
      ]
     },
     "execution_count": 15,
     "metadata": {},
     "output_type": "execute_result"
    }
   ],
   "source": [
    "# Notice imp_donor_assets has been added to recipient cells\n",
    "imputer.recipient_cells"
   ]
  },
  {
   "cell_type": "code",
   "execution_count": 16,
   "metadata": {},
   "outputs": [
    {
     "data": {
      "text/html": [
       "<div><style>\n",
       ".dataframe > thead > tr,\n",
       ".dataframe > tbody > tr {\n",
       "  text-align: right;\n",
       "  white-space: pre-wrap;\n",
       "}\n",
       "</style>\n",
       "<small>shape: (14, 5)</small><table border=\"1\" class=\"dataframe\"><thead><tr><th>race_cell</th><th>sex_cell</th><th>work_cell</th><th>weight</th><th>imp_donor_assets</th></tr><tr><td>str</td><td>str</td><td>i64</td><td>i64</td><td>f64</td></tr></thead><tbody><tr><td>&quot;Black&quot;</td><td>&quot;M&quot;</td><td>1</td><td>1</td><td>5774.988794</td></tr><tr><td>&quot;Black&quot;</td><td>&quot;M&quot;</td><td>1</td><td>1</td><td>5774.988794</td></tr><tr><td>&quot;Black&quot;</td><td>&quot;M&quot;</td><td>1</td><td>2</td><td>72187.359928</td></tr><tr><td>&quot;White&quot;</td><td>&quot;M&quot;</td><td>0</td><td>3</td><td>14437.471986</td></tr><tr><td>&quot;White&quot;</td><td>&quot;M&quot;</td><td>0</td><td>1</td><td>2887.494397</td></tr><tr><td>&hellip;</td><td>&hellip;</td><td>&hellip;</td><td>&hellip;</td><td>&hellip;</td></tr><tr><td>&quot;Black&quot;</td><td>&quot;F&quot;</td><td>0</td><td>3</td><td>28874.943971</td></tr><tr><td>&quot;Black&quot;</td><td>&quot;F&quot;</td><td>0</td><td>3</td><td>28874.943971</td></tr><tr><td>&quot;Black&quot;</td><td>&quot;F&quot;</td><td>0</td><td>4</td><td>28874.943971</td></tr><tr><td>&quot;Black&quot;</td><td>&quot;F&quot;</td><td>1</td><td>2</td><td>433124.15957</td></tr><tr><td>&quot;Black&quot;</td><td>&quot;F&quot;</td><td>1</td><td>4</td><td>288.74944</td></tr></tbody></table></div>"
      ],
      "text/plain": [
       "shape: (14, 5)\n",
       "┌───────────┬──────────┬───────────┬────────┬──────────────────┐\n",
       "│ race_cell ┆ sex_cell ┆ work_cell ┆ weight ┆ imp_donor_assets │\n",
       "│ ---       ┆ ---      ┆ ---       ┆ ---    ┆ ---              │\n",
       "│ str       ┆ str      ┆ i64       ┆ i64    ┆ f64              │\n",
       "╞═══════════╪══════════╪═══════════╪════════╪══════════════════╡\n",
       "│ Black     ┆ M        ┆ 1         ┆ 1      ┆ 5774.988794      │\n",
       "│ Black     ┆ M        ┆ 1         ┆ 1      ┆ 5774.988794      │\n",
       "│ Black     ┆ M        ┆ 1         ┆ 2      ┆ 72187.359928     │\n",
       "│ White     ┆ M        ┆ 0         ┆ 3      ┆ 14437.471986     │\n",
       "│ White     ┆ M        ┆ 0         ┆ 1      ┆ 2887.494397      │\n",
       "│ …         ┆ …        ┆ …         ┆ …      ┆ …                │\n",
       "│ Black     ┆ F        ┆ 0         ┆ 3      ┆ 28874.943971     │\n",
       "│ Black     ┆ F        ┆ 0         ┆ 3      ┆ 28874.943971     │\n",
       "│ Black     ┆ F        ┆ 0         ┆ 4      ┆ 28874.943971     │\n",
       "│ Black     ┆ F        ┆ 1         ┆ 2      ┆ 433124.15957     │\n",
       "│ Black     ┆ F        ┆ 1         ┆ 4      ┆ 288.74944        │\n",
       "└───────────┴──────────┴───────────┴────────┴──────────────────┘"
      ]
     },
     "execution_count": 16,
     "metadata": {},
     "output_type": "execute_result"
    }
   ],
   "source": [
    "imputer.recipient_data"
   ]
  },
  {
   "cell_type": "code",
   "execution_count": 17,
   "metadata": {},
   "outputs": [],
   "source": [
    "# To smooth out clusters, you can add random noise proportional to the standard deviation of the variable \n",
    "# and set a floor value that the noise cannot send a value below (to avoid negative or impossible values)\n",
    "imputer.apply_random_noise(variation_stdev = (1/6), floor_noise = 1.5)"
   ]
  },
  {
   "cell_type": "code",
   "execution_count": 18,
   "metadata": {},
   "outputs": [
    {
     "data": {
      "text/plain": [
       "0.16666666666666666"
      ]
     },
     "execution_count": 18,
     "metadata": {},
     "output_type": "execute_result"
    }
   ],
   "source": [
    "# Take a look at the random noise used, initialized after above function is called\n",
    "imputer.random_noise"
   ]
  },
  {
   "cell_type": "markdown",
   "metadata": {},
   "source": [
    "#### Examine Results"
   ]
  },
  {
   "cell_type": "code",
   "execution_count": 22,
   "metadata": {},
   "outputs": [
    {
     "data": {
      "image/png": "[encoded data removed]",
      "text/plain": [
       "<Figure size 640x480 with 1 Axes>"
      ]
     },
     "metadata": {},
     "output_type": "display_data"
    }
   ],
   "source": [
    "# Compare the input to the output in the process\n",
    "plot_data = imputer.recipient_data[['weight','imp_donor_assets']]\n",
    "plot_data_donor = imputer.donor_data[['weight','donor_assets']]\n",
    "\n",
    "# Create a weighted histogram plot for donor data\n",
    "sns.kdeplot(data=plot_data_donor, x='donor_assets', weights='weight', color='green', label='Donor', alpha=0.5)\n",
    "\n",
    "# Create a weighted histogram plot for recipient data\n",
    "sns.kdeplot(data=plot_data, x='imp_donor_assets', weights='weight', color='blue', label='Recipient', alpha=0.5)\n",
    "\n",
    "# Add titles and labels\n",
    "plt.title('Liquid assets post noise injection')\n",
    "plt.xlabel('Liquid Assets Value')\n",
    "plt.ylabel('Weighted Density')\n",
    "\n",
    "# Add a legend to differentiate between recipient and donor data\n",
    "plt.legend()\n",
    "\n",
    "# Show the plot\n",
    "plt.show()"
   ]
  },
  {
   "cell_type": "code",
   "execution_count": null,
   "metadata": {},
   "outputs": [
    {
     "name": "stdout",
     "output_type": "stream",
     "text": [
      "Cell data written to '.\\hot_deck_stats.xlsx'.\n"
     ]
    }
   ],
   "source": [
    "imputer.gen_analysis_file('hot_deck_stats', '')"
   ]
  },
  {
   "cell_type": "code",
   "execution_count": null,
   "metadata": {},
   "outputs": [
    {
     "name": "stdout",
     "output_type": "stream",
     "text": [
      "Cell data written to '.\\hot_deck_stats.xlsx'.\n"
     ]
    }
   ],
   "source": [
    "imputer.gen_analysis_file('hot_deck_stats')"
   ]
  }
 ],
 "metadata": {
  "kernelspec": {
   "display_name": ".venv",
   "language": "python",
   "name": "python3"
  },
  "language_info": {
   "codemirror_mode": {
    "name": "ipython",
    "version": 3
   },
   "file_extension": ".py",
   "mimetype": "text/x-python",
   "name": "python",
   "nbconvert_exporter": "python",
   "pygments_lexer": "ipython3",
   "version": "3.12.4"
  }
 },
 "nbformat": 4,
 "nbformat_minor": 2
}
