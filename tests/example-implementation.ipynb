{
 "cells": [
  {
   "cell_type": "markdown",
   "metadata": {},
   "source": [
    "### Example Implementation\n",
    "This file goes through every step of the process, using features available to HotDeckImputer."
   ]
  },
  {
   "cell_type": "code",
   "execution_count": 25,
   "metadata": {},
   "outputs": [],
   "source": [
    "# from hot_deck_imputer import HotDeckImputer\n",
    "# Add the src directory to the Python path\n",
    "import sys\n",
    "import os\n",
    "\n",
    "# Import the HotDeckImputer class\n",
    "from hot_deck_imputer import HotDeckImputer\n",
    "import polars as pl\n",
    "import numpy as np\n",
    "import seaborn as sns\n",
    "import matplotlib.pyplot as plt"
   ]
  },
  {
   "cell_type": "markdown",
   "metadata": {},
   "source": [
    "#### Generate Data"
   ]
  },
  {
   "cell_type": "code",
   "execution_count": 26,
   "metadata": {},
   "outputs": [],
   "source": [
    "# Create possibilities for race, sex, and work\n",
    "race_categories = ['Black', 'White', 'Asian']\n",
    "sex_categories = ['M', 'F']\n",
    "work_categories = [0, 1]\n",
    "\n",
    "# Generate polars frames\n",
    "donor_data = {\n",
    "    'donor_assets': np.random.randint(200, 500000, size=1000),\n",
    "    'race_cell': np.random.choice(race_categories, size=1000),\n",
    "    'sex_cell': np.random.choice(sex_categories, size=1000),\n",
    "    'work_cell': np.random.choice(work_categories, size=1000),\n",
    "    'weight': np.random.randint(1, 5, size=1000)\n",
    "}\n",
    "\n",
    "donor_data = pl.DataFrame(donor_data)\n",
    "\n",
    "recipient_data = {\n",
    "    'race_cell': np.random.choice(race_categories, size=1500),\n",
    "    'sex_cell': np.random.choice(sex_categories, size=1500),\n",
    "    'work_cell': np.random.choice(work_categories, size=1500),\n",
    "    'weight': np.random.randint(1, 5, size=1500)\n",
    "}\n",
    "\n",
    "recipient_data = pl.DataFrame(recipient_data)"
   ]
  },
  {
   "cell_type": "markdown",
   "metadata": {},
   "source": [
    "#### Create Imputer + Define Cells"
   ]
  },
  {
   "cell_type": "code",
   "execution_count": 27,
   "metadata": {},
   "outputs": [],
   "source": [
    "imputer = HotDeckImputer(donor_data = donor_data, \n",
    "                         imputation_var = 'donor_assets', \n",
    "                         weight_var = 'weight', \n",
    "                         recipient_data = recipient_data,\n",
    "                         random_seed = 42)"
   ]
  },
  {
   "cell_type": "code",
   "execution_count": 28,
   "metadata": {},
   "outputs": [
    {
     "name": "stdout",
     "output_type": "stream",
     "text": [
      "Summary of donor_assets pre CPI aging:\n",
      "{'mean': 249062.757, 'median': 241392.0, 'min': 338, 'max': 498804, 'std_dev': 142488.94818433683, 'count': 1000, 'missing_values': 0}\n",
      "Summary of donor_assets post CPI aging:\n",
      "{'mean': 359583.65768579114, 'median': 348509.0237561632, 'min': 487.986553115195, 'max': 720146.8776333483, 'std_dev': 205718.01976770462, 'count': 1000, 'missing_values': 0}\n"
     ]
    }
   ],
   "source": [
    "# If you are imputing from one dataset to another across years, this will adjust the donor data to the recipient year\n",
    "imputer.age_dollar_amounts(donor_year_cpi = 223.1, imp_year_cpi = 322.1)"
   ]
  },
  {
   "cell_type": "code",
   "execution_count": 29,
   "metadata": {},
   "outputs": [
    {
     "data": {
      "text/plain": [
       "[\"race_cell == 'White' & sex_cell == 'F'\",\n",
       " \"race_cell == 'White' & sex_cell == 'M'\",\n",
       " \"race_cell == 'Black' & sex_cell == 'F'\",\n",
       " \"race_cell == 'Black' & sex_cell == 'M'\",\n",
       " \"race_cell == 'Asian' & sex_cell == 'F'\",\n",
       " \"race_cell == 'Asian' & sex_cell == 'M'\"]"
      ]
     },
     "execution_count": 29,
     "metadata": {},
     "output_type": "execute_result"
    }
   ],
   "source": [
    "# The variables create cells held in imputer.donor_cells, a dictionary.\n",
    "# These cells divide the data according to every unique combination of the variables. \n",
    "# Key: combination of variables defining cell, Value: pl.DataFrame of data in that cell\n",
    "variables = ['race_cell','sex_cell']\n",
    "\n",
    "imputer.define_cells(variables)\n",
    "\n",
    "# Take a look at cell definitions\n",
    "imputer.cell_definitions"
   ]
  },
  {
   "cell_type": "code",
   "execution_count": 30,
   "metadata": {},
   "outputs": [],
   "source": [
    "# Create the cells after defining them, assuming above looks right\n",
    "imputer.generate_cells()"
   ]
  },
  {
   "cell_type": "code",
   "execution_count": 31,
   "metadata": {},
   "outputs": [
    {
     "data": {
      "text/plain": [
       "{\"race_cell == 'White' & sex_cell == 'F'\": shape: (278, 4)\n",
       " ┌───────────┬──────────┬───────────┬────────┐\n",
       " │ race_cell ┆ sex_cell ┆ work_cell ┆ weight │\n",
       " │ ---       ┆ ---      ┆ ---       ┆ ---    │\n",
       " │ str       ┆ str      ┆ i32       ┆ i32    │\n",
       " ╞═══════════╪══════════╪═══════════╪════════╡\n",
       " │ White     ┆ F        ┆ 1         ┆ 4      │\n",
       " │ White     ┆ F        ┆ 1         ┆ 4      │\n",
       " │ White     ┆ F        ┆ 1         ┆ 2      │\n",
       " │ White     ┆ F        ┆ 0         ┆ 4      │\n",
       " │ White     ┆ F        ┆ 0         ┆ 4      │\n",
       " │ …         ┆ …        ┆ …         ┆ …      │\n",
       " │ White     ┆ F        ┆ 0         ┆ 1      │\n",
       " │ White     ┆ F        ┆ 1         ┆ 4      │\n",
       " │ White     ┆ F        ┆ 1         ┆ 1      │\n",
       " │ White     ┆ F        ┆ 1         ┆ 1      │\n",
       " │ White     ┆ F        ┆ 0         ┆ 2      │\n",
       " └───────────┴──────────┴───────────┴────────┘,\n",
       " \"race_cell == 'White' & sex_cell == 'M'\": shape: (253, 4)\n",
       " ┌───────────┬──────────┬───────────┬────────┐\n",
       " │ race_cell ┆ sex_cell ┆ work_cell ┆ weight │\n",
       " │ ---       ┆ ---      ┆ ---       ┆ ---    │\n",
       " │ str       ┆ str      ┆ i32       ┆ i32    │\n",
       " ╞═══════════╪══════════╪═══════════╪════════╡\n",
       " │ White     ┆ M        ┆ 0         ┆ 4      │\n",
       " │ White     ┆ M        ┆ 1         ┆ 3      │\n",
       " │ White     ┆ M        ┆ 0         ┆ 2      │\n",
       " │ White     ┆ M        ┆ 0         ┆ 4      │\n",
       " │ White     ┆ M        ┆ 0         ┆ 4      │\n",
       " │ …         ┆ …        ┆ …         ┆ …      │\n",
       " │ White     ┆ M        ┆ 1         ┆ 1      │\n",
       " │ White     ┆ M        ┆ 0         ┆ 3      │\n",
       " │ White     ┆ M        ┆ 1         ┆ 3      │\n",
       " │ White     ┆ M        ┆ 0         ┆ 4      │\n",
       " │ White     ┆ M        ┆ 0         ┆ 4      │\n",
       " └───────────┴──────────┴───────────┴────────┘,\n",
       " \"race_cell == 'Black' & sex_cell == 'F'\": shape: (252, 4)\n",
       " ┌───────────┬──────────┬───────────┬────────┐\n",
       " │ race_cell ┆ sex_cell ┆ work_cell ┆ weight │\n",
       " │ ---       ┆ ---      ┆ ---       ┆ ---    │\n",
       " │ str       ┆ str      ┆ i32       ┆ i32    │\n",
       " ╞═══════════╪══════════╪═══════════╪════════╡\n",
       " │ Black     ┆ F        ┆ 0         ┆ 2      │\n",
       " │ Black     ┆ F        ┆ 0         ┆ 1      │\n",
       " │ Black     ┆ F        ┆ 0         ┆ 2      │\n",
       " │ Black     ┆ F        ┆ 0         ┆ 2      │\n",
       " │ Black     ┆ F        ┆ 0         ┆ 1      │\n",
       " │ …         ┆ …        ┆ …         ┆ …      │\n",
       " │ Black     ┆ F        ┆ 0         ┆ 3      │\n",
       " │ Black     ┆ F        ┆ 0         ┆ 4      │\n",
       " │ Black     ┆ F        ┆ 1         ┆ 3      │\n",
       " │ Black     ┆ F        ┆ 0         ┆ 4      │\n",
       " │ Black     ┆ F        ┆ 1         ┆ 1      │\n",
       " └───────────┴──────────┴───────────┴────────┘,\n",
       " \"race_cell == 'Black' & sex_cell == 'M'\": shape: (251, 4)\n",
       " ┌───────────┬──────────┬───────────┬────────┐\n",
       " │ race_cell ┆ sex_cell ┆ work_cell ┆ weight │\n",
       " │ ---       ┆ ---      ┆ ---       ┆ ---    │\n",
       " │ str       ┆ str      ┆ i32       ┆ i32    │\n",
       " ╞═══════════╪══════════╪═══════════╪════════╡\n",
       " │ Black     ┆ M        ┆ 0         ┆ 2      │\n",
       " │ Black     ┆ M        ┆ 0         ┆ 3      │\n",
       " │ Black     ┆ M        ┆ 1         ┆ 2      │\n",
       " │ Black     ┆ M        ┆ 1         ┆ 1      │\n",
       " │ Black     ┆ M        ┆ 1         ┆ 3      │\n",
       " │ …         ┆ …        ┆ …         ┆ …      │\n",
       " │ Black     ┆ M        ┆ 0         ┆ 3      │\n",
       " │ Black     ┆ M        ┆ 1         ┆ 4      │\n",
       " │ Black     ┆ M        ┆ 0         ┆ 2      │\n",
       " │ Black     ┆ M        ┆ 1         ┆ 4      │\n",
       " │ Black     ┆ M        ┆ 1         ┆ 3      │\n",
       " └───────────┴──────────┴───────────┴────────┘,\n",
       " \"race_cell == 'Asian' & sex_cell == 'F'\": shape: (220, 4)\n",
       " ┌───────────┬──────────┬───────────┬────────┐\n",
       " │ race_cell ┆ sex_cell ┆ work_cell ┆ weight │\n",
       " │ ---       ┆ ---      ┆ ---       ┆ ---    │\n",
       " │ str       ┆ str      ┆ i32       ┆ i32    │\n",
       " ╞═══════════╪══════════╪═══════════╪════════╡\n",
       " │ Asian     ┆ F        ┆ 1         ┆ 3      │\n",
       " │ Asian     ┆ F        ┆ 1         ┆ 4      │\n",
       " │ Asian     ┆ F        ┆ 1         ┆ 1      │\n",
       " │ Asian     ┆ F        ┆ 1         ┆ 1      │\n",
       " │ Asian     ┆ F        ┆ 1         ┆ 2      │\n",
       " │ …         ┆ …        ┆ …         ┆ …      │\n",
       " │ Asian     ┆ F        ┆ 1         ┆ 3      │\n",
       " │ Asian     ┆ F        ┆ 1         ┆ 4      │\n",
       " │ Asian     ┆ F        ┆ 0         ┆ 2      │\n",
       " │ Asian     ┆ F        ┆ 1         ┆ 4      │\n",
       " │ Asian     ┆ F        ┆ 0         ┆ 3      │\n",
       " └───────────┴──────────┴───────────┴────────┘,\n",
       " \"race_cell == 'Asian' & sex_cell == 'M'\": shape: (246, 4)\n",
       " ┌───────────┬──────────┬───────────┬────────┐\n",
       " │ race_cell ┆ sex_cell ┆ work_cell ┆ weight │\n",
       " │ ---       ┆ ---      ┆ ---       ┆ ---    │\n",
       " │ str       ┆ str      ┆ i32       ┆ i32    │\n",
       " ╞═══════════╪══════════╪═══════════╪════════╡\n",
       " │ Asian     ┆ M        ┆ 0         ┆ 1      │\n",
       " │ Asian     ┆ M        ┆ 1         ┆ 1      │\n",
       " │ Asian     ┆ M        ┆ 1         ┆ 2      │\n",
       " │ Asian     ┆ M        ┆ 0         ┆ 3      │\n",
       " │ Asian     ┆ M        ┆ 0         ┆ 4      │\n",
       " │ …         ┆ …        ┆ …         ┆ …      │\n",
       " │ Asian     ┆ M        ┆ 1         ┆ 2      │\n",
       " │ Asian     ┆ M        ┆ 1         ┆ 1      │\n",
       " │ Asian     ┆ M        ┆ 1         ┆ 1      │\n",
       " │ Asian     ┆ M        ┆ 0         ┆ 3      │\n",
       " │ Asian     ┆ M        ┆ 1         ┆ 1      │\n",
       " └───────────┴──────────┴───────────┴────────┘}"
      ]
     },
     "execution_count": 31,
     "metadata": {},
     "output_type": "execute_result"
    }
   ],
   "source": [
    "# Take a look at the recipient cells\n",
    "imputer.recipient_cells"
   ]
  },
  {
   "cell_type": "code",
   "execution_count": 32,
   "metadata": {},
   "outputs": [
    {
     "data": {
      "text/plain": [
       "{\"race_cell == 'White' & sex_cell == 'F'\": shape: (167, 5)\n",
       " ┌───────────────┬───────────┬──────────┬───────────┬────────┐\n",
       " │ donor_assets  ┆ race_cell ┆ sex_cell ┆ work_cell ┆ weight │\n",
       " │ ---           ┆ ---       ┆ ---      ┆ ---       ┆ ---    │\n",
       " │ f64           ┆ str       ┆ str      ┆ i32       ┆ i32    │\n",
       " ╞═══════════════╪═══════════╪══════════╪═══════════╪════════╡\n",
       " │ 190454.799193 ┆ White     ┆ F        ┆ 0         ┆ 1      │\n",
       " │ 118437.801434 ┆ White     ┆ F        ┆ 1         ┆ 2      │\n",
       " │ 611435.601076 ┆ White     ┆ F        ┆ 0         ┆ 4      │\n",
       " │ 643273.114299 ┆ White     ┆ F        ┆ 1         ┆ 2      │\n",
       " │ 379605.894666 ┆ White     ┆ F        ┆ 0         ┆ 1      │\n",
       " │ …             ┆ …         ┆ …        ┆ …         ┆ …      │\n",
       " │ 386489.681309 ┆ White     ┆ F        ┆ 0         ┆ 4      │\n",
       " │ 434114.570148 ┆ White     ┆ F        ┆ 0         ┆ 2      │\n",
       " │ 496312.643209 ┆ White     ┆ F        ┆ 1         ┆ 3      │\n",
       " │ 421089.082922 ┆ White     ┆ F        ┆ 1         ┆ 1      │\n",
       " │ 171489.735993 ┆ White     ┆ F        ┆ 0         ┆ 3      │\n",
       " └───────────────┴───────────┴──────────┴───────────┴────────┘,\n",
       " \"race_cell == 'White' & sex_cell == 'M'\": shape: (155, 5)\n",
       " ┌───────────────┬───────────┬──────────┬───────────┬────────┐\n",
       " │ donor_assets  ┆ race_cell ┆ sex_cell ┆ work_cell ┆ weight │\n",
       " │ ---           ┆ ---       ┆ ---      ┆ ---       ┆ ---    │\n",
       " │ f64           ┆ str       ┆ str      ┆ i32       ┆ i32    │\n",
       " ╞═══════════════╪═══════════╪══════════╪═══════════╪════════╡\n",
       " │ 211231.765128 ┆ White     ┆ M        ┆ 1         ┆ 1      │\n",
       " │ 351192.949798 ┆ White     ┆ M        ┆ 0         ┆ 3      │\n",
       " │ 274942.885253 ┆ White     ┆ M        ┆ 0         ┆ 2      │\n",
       " │ 174963.391753 ┆ White     ┆ M        ┆ 0         ┆ 4      │\n",
       " │ 313326.348274 ┆ White     ┆ M        ┆ 0         ┆ 3      │\n",
       " │ …             ┆ …         ┆ …        ┆ …         ┆ …      │\n",
       " │ 216912.910354 ┆ White     ┆ M        ┆ 1         ┆ 1      │\n",
       " │ 359975.264007 ┆ White     ┆ M        ┆ 1         ┆ 3      │\n",
       " │ 178022.692066 ┆ White     ┆ M        ┆ 1         ┆ 4      │\n",
       " │ 3547.286867   ┆ White     ┆ M        ┆ 1         ┆ 4      │\n",
       " │ 38770.38727   ┆ White     ┆ M        ┆ 0         ┆ 2      │\n",
       " └───────────────┴───────────┴──────────┴───────────┴────────┘,\n",
       " \"race_cell == 'Black' & sex_cell == 'F'\": shape: (173, 5)\n",
       " ┌───────────────┬───────────┬──────────┬───────────┬────────┐\n",
       " │ donor_assets  ┆ race_cell ┆ sex_cell ┆ work_cell ┆ weight │\n",
       " │ ---           ┆ ---       ┆ ---      ┆ ---       ┆ ---    │\n",
       " │ f64           ┆ str       ┆ str      ┆ i32       ┆ i32    │\n",
       " ╞═══════════════╪═══════════╪══════════╪═══════════╪════════╡\n",
       " │ 301089.147019 ┆ Black     ┆ F        ┆ 0         ┆ 2      │\n",
       " │ 138404.82519  ┆ Black     ┆ F        ┆ 1         ┆ 2      │\n",
       " │ 227746.789332 ┆ Black     ┆ F        ┆ 1         ┆ 3      │\n",
       " │ 595262.744957 ┆ Black     ┆ F        ┆ 1         ┆ 1      │\n",
       " │ 620135.621694 ┆ Black     ┆ F        ┆ 0         ┆ 2      │\n",
       " │ …             ┆ …         ┆ …        ┆ …         ┆ …      │\n",
       " │ 160576.450919 ┆ Black     ┆ F        ┆ 0         ┆ 2      │\n",
       " │ 387192.786195 ┆ Black     ┆ F        ┆ 0         ┆ 1      │\n",
       " │ 560290.856567 ┆ Black     ┆ F        ┆ 1         ┆ 3      │\n",
       " │ 445124.586284 ┆ Black     ┆ F        ┆ 1         ┆ 2      │\n",
       " │ 97099.21784   ┆ Black     ┆ F        ┆ 1         ┆ 1      │\n",
       " └───────────────┴───────────┴──────────┴───────────┴────────┘,\n",
       " \"race_cell == 'Black' & sex_cell == 'M'\": shape: (179, 5)\n",
       " ┌───────────────┬───────────┬──────────┬───────────┬────────┐\n",
       " │ donor_assets  ┆ race_cell ┆ sex_cell ┆ work_cell ┆ weight │\n",
       " │ ---           ┆ ---       ┆ ---      ┆ ---       ┆ ---    │\n",
       " │ f64           ┆ str       ┆ str      ┆ i32       ┆ i32    │\n",
       " ╞═══════════════╪═══════════╪══════════╪═══════════╪════════╡\n",
       " │ 141423.700583 ┆ Black     ┆ M        ┆ 0         ┆ 3      │\n",
       " │ 581834.452264 ┆ Black     ┆ M        ┆ 1         ┆ 1      │\n",
       " │ 234178.683102 ┆ Black     ┆ M        ┆ 0         ┆ 2      │\n",
       " │ 315835.580905 ┆ Black     ┆ M        ┆ 0         ┆ 2      │\n",
       " │ 445611.12909  ┆ Black     ┆ M        ┆ 0         ┆ 4      │\n",
       " │ …             ┆ …         ┆ …        ┆ …         ┆ …      │\n",
       " │ 79081.252801  ┆ Black     ┆ M        ┆ 1         ┆ 4      │\n",
       " │ 684564.284177 ┆ Black     ┆ M        ┆ 1         ┆ 1      │\n",
       " │ 694453.952488 ┆ Black     ┆ M        ┆ 0         ┆ 1      │\n",
       " │ 30330.241147  ┆ Black     ┆ M        ┆ 1         ┆ 1      │\n",
       " │ 75925.221425  ┆ Black     ┆ M        ┆ 1         ┆ 3      │\n",
       " └───────────────┴───────────┴──────────┴───────────┴────────┘,\n",
       " \"race_cell == 'Asian' & sex_cell == 'F'\": shape: (172, 5)\n",
       " ┌───────────────┬───────────┬──────────┬───────────┬────────┐\n",
       " │ donor_assets  ┆ race_cell ┆ sex_cell ┆ work_cell ┆ weight │\n",
       " │ ---           ┆ ---       ┆ ---      ┆ ---       ┆ ---    │\n",
       " │ f64           ┆ str       ┆ str      ┆ i32       ┆ i32    │\n",
       " ╞═══════════════╪═══════════╪══════════╪═══════════╪════════╡\n",
       " │ 639337.459435 ┆ Asian     ┆ F        ┆ 1         ┆ 2      │\n",
       " │ 378104.39758  ┆ Asian     ┆ F        ┆ 0         ┆ 1      │\n",
       " │ 63426.701927  ┆ Asian     ┆ F        ┆ 0         ┆ 2      │\n",
       " │ 609874.910354 ┆ Asian     ┆ F        ┆ 0         ┆ 1      │\n",
       " │ 291984.877185 ┆ Asian     ┆ F        ┆ 0         ┆ 2      │\n",
       " │ …             ┆ …         ┆ …        ┆ …         ┆ …      │\n",
       " │ 604951.732407 ┆ Asian     ┆ F        ┆ 1         ┆ 2      │\n",
       " │ 96895.649485  ┆ Asian     ┆ F        ┆ 1         ┆ 1      │\n",
       " │ 340246.458539 ┆ Asian     ┆ F        ┆ 1         ┆ 1      │\n",
       " │ 692143.95697  ┆ Asian     ┆ F        ┆ 0         ┆ 4      │\n",
       " │ 306133.599731 ┆ Asian     ┆ F        ┆ 1         ┆ 4      │\n",
       " └───────────────┴───────────┴──────────┴───────────┴────────┘,\n",
       " \"race_cell == 'Asian' & sex_cell == 'M'\": shape: (154, 5)\n",
       " ┌───────────────┬───────────┬──────────┬───────────┬────────┐\n",
       " │ donor_assets  ┆ race_cell ┆ sex_cell ┆ work_cell ┆ weight │\n",
       " │ ---           ┆ ---       ┆ ---      ┆ ---       ┆ ---    │\n",
       " │ f64           ┆ str       ┆ str      ┆ i32       ┆ i32    │\n",
       " ╞═══════════════╪═══════════╪══════════╪═══════════╪════════╡\n",
       " │ 176760.857015 ┆ Asian     ┆ M        ┆ 1         ┆ 1      │\n",
       " │ 307366.559839 ┆ Asian     ┆ M        ┆ 1         ┆ 1      │\n",
       " │ 479264.876289 ┆ Asian     ┆ M        ┆ 1         ┆ 3      │\n",
       " │ 293453.168086 ┆ Asian     ┆ M        ┆ 1         ┆ 4      │\n",
       " │ 678637.701927 ┆ Asian     ┆ M        ┆ 1         ┆ 1      │\n",
       " │ …             ┆ …         ┆ …        ┆ …         ┆ …      │\n",
       " │ 681847.15195  ┆ Asian     ┆ M        ┆ 0         ┆ 2      │\n",
       " │ 418265.113402 ┆ Asian     ┆ M        ┆ 1         ┆ 4      │\n",
       " │ 225576.837293 ┆ Asian     ┆ M        ┆ 0         ┆ 1      │\n",
       " │ 161576.967727 ┆ Asian     ┆ M        ┆ 1         ┆ 4      │\n",
       " │ 706145.417302 ┆ Asian     ┆ M        ┆ 1         ┆ 3      │\n",
       " └───────────────┴───────────┴──────────┴───────────┴────────┘}"
      ]
     },
     "execution_count": 32,
     "metadata": {},
     "output_type": "execute_result"
    }
   ],
   "source": [
    "# Take a look at donor cells\n",
    "imputer.donor_cells"
   ]
  },
  {
   "cell_type": "code",
   "execution_count": 33,
   "metadata": {},
   "outputs": [
    {
     "name": "stdout",
     "output_type": "stream",
     "text": [
      "Cell splitting completed successfully.\n",
      "To rerun with these cells submit imputer.impute() again.\n",
      "Cell splitting completed successfully.\n",
      "To rerun with these cells submit imputer.impute() again.\n"
     ]
    }
   ],
   "source": [
    "# After deciding that you want to split on work_cell for Black Women, you can do the following\n",
    "imputer.split_cell(\"race_cell == 'Black' & sex_cell == 'F'\", \"work_cell\")\n",
    "imputer.split_cell(\"race_cell == 'White' & sex_cell == 'F'\", \"work_cell\")\n"
   ]
  },
  {
   "cell_type": "code",
   "execution_count": 34,
   "metadata": {},
   "outputs": [
    {
     "data": {
      "text/plain": [
       "[\"race_cell == 'White' & sex_cell == 'M'\",\n",
       " \"race_cell == 'Black' & sex_cell == 'M'\",\n",
       " \"race_cell == 'Asian' & sex_cell == 'F'\",\n",
       " \"race_cell == 'Asian' & sex_cell == 'M'\",\n",
       " \"race_cell == 'Black' & sex_cell == 'F' & work_cell == 0\",\n",
       " \"race_cell == 'Black' & sex_cell == 'F' & work_cell == 1\",\n",
       " \"race_cell == 'White' & sex_cell == 'F' & work_cell == 1\",\n",
       " \"race_cell == 'White' & sex_cell == 'F' & work_cell == 0\"]"
      ]
     },
     "execution_count": 34,
     "metadata": {},
     "output_type": "execute_result"
    }
   ],
   "source": [
    "# Cell definitions have changed, as have donor cells\n",
    "imputer.cell_definitions"
   ]
  },
  {
   "cell_type": "code",
   "execution_count": 35,
   "metadata": {},
   "outputs": [
    {
     "data": {
      "text/html": [
       "<div><style>\n",
       ".dataframe > thead > tr,\n",
       ".dataframe > tbody > tr {\n",
       "  text-align: right;\n",
       "  white-space: pre-wrap;\n",
       "}\n",
       "</style>\n",
       "<small>shape: (96, 5)</small><table border=\"1\" class=\"dataframe\"><thead><tr><th>donor_assets</th><th>race_cell</th><th>sex_cell</th><th>work_cell</th><th>weight</th></tr><tr><td>f64</td><td>str</td><td>str</td><td>i32</td><td>i32</td></tr></thead><tbody><tr><td>138404.82519</td><td>&quot;Black&quot;</td><td>&quot;F&quot;</td><td>1</td><td>2</td></tr><tr><td>227746.789332</td><td>&quot;Black&quot;</td><td>&quot;F&quot;</td><td>1</td><td>3</td></tr><tr><td>595262.744957</td><td>&quot;Black&quot;</td><td>&quot;F&quot;</td><td>1</td><td>1</td></tr><tr><td>26419.129987</td><td>&quot;Black&quot;</td><td>&quot;F&quot;</td><td>1</td><td>3</td></tr><tr><td>152459.704169</td><td>&quot;Black&quot;</td><td>&quot;F&quot;</td><td>1</td><td>4</td></tr><tr><td>&hellip;</td><td>&hellip;</td><td>&hellip;</td><td>&hellip;</td><td>&hellip;</td></tr><tr><td>348318.449126</td><td>&quot;Black&quot;</td><td>&quot;F&quot;</td><td>1</td><td>1</td></tr><tr><td>64910.874048</td><td>&quot;Black&quot;</td><td>&quot;F&quot;</td><td>1</td><td>2</td></tr><tr><td>560290.856567</td><td>&quot;Black&quot;</td><td>&quot;F&quot;</td><td>1</td><td>3</td></tr><tr><td>445124.586284</td><td>&quot;Black&quot;</td><td>&quot;F&quot;</td><td>1</td><td>2</td></tr><tr><td>97099.21784</td><td>&quot;Black&quot;</td><td>&quot;F&quot;</td><td>1</td><td>1</td></tr></tbody></table></div>"
      ],
      "text/plain": [
       "shape: (96, 5)\n",
       "┌───────────────┬───────────┬──────────┬───────────┬────────┐\n",
       "│ donor_assets  ┆ race_cell ┆ sex_cell ┆ work_cell ┆ weight │\n",
       "│ ---           ┆ ---       ┆ ---      ┆ ---       ┆ ---    │\n",
       "│ f64           ┆ str       ┆ str      ┆ i32       ┆ i32    │\n",
       "╞═══════════════╪═══════════╪══════════╪═══════════╪════════╡\n",
       "│ 138404.82519  ┆ Black     ┆ F        ┆ 1         ┆ 2      │\n",
       "│ 227746.789332 ┆ Black     ┆ F        ┆ 1         ┆ 3      │\n",
       "│ 595262.744957 ┆ Black     ┆ F        ┆ 1         ┆ 1      │\n",
       "│ 26419.129987  ┆ Black     ┆ F        ┆ 1         ┆ 3      │\n",
       "│ 152459.704169 ┆ Black     ┆ F        ┆ 1         ┆ 4      │\n",
       "│ …             ┆ …         ┆ …        ┆ …         ┆ …      │\n",
       "│ 348318.449126 ┆ Black     ┆ F        ┆ 1         ┆ 1      │\n",
       "│ 64910.874048  ┆ Black     ┆ F        ┆ 1         ┆ 2      │\n",
       "│ 560290.856567 ┆ Black     ┆ F        ┆ 1         ┆ 3      │\n",
       "│ 445124.586284 ┆ Black     ┆ F        ┆ 1         ┆ 2      │\n",
       "│ 97099.21784   ┆ Black     ┆ F        ┆ 1         ┆ 1      │\n",
       "└───────────────┴───────────┴──────────┴───────────┴────────┘"
      ]
     },
     "execution_count": 35,
     "metadata": {},
     "output_type": "execute_result"
    }
   ],
   "source": [
    "# Take a look at donor and recipient after splitting\n",
    "imputer.donor_cells[\"race_cell == 'Black' & sex_cell == 'F' & work_cell == 1\"]"
   ]
  },
  {
   "cell_type": "code",
   "execution_count": 36,
   "metadata": {},
   "outputs": [
    {
     "data": {
      "text/html": [
       "<div><style>\n",
       ".dataframe > thead > tr,\n",
       ".dataframe > tbody > tr {\n",
       "  text-align: right;\n",
       "  white-space: pre-wrap;\n",
       "}\n",
       "</style>\n",
       "<small>shape: (128, 4)</small><table border=\"1\" class=\"dataframe\"><thead><tr><th>race_cell</th><th>sex_cell</th><th>work_cell</th><th>weight</th></tr><tr><td>str</td><td>str</td><td>i32</td><td>i32</td></tr></thead><tbody><tr><td>&quot;Black&quot;</td><td>&quot;F&quot;</td><td>1</td><td>3</td></tr><tr><td>&quot;Black&quot;</td><td>&quot;F&quot;</td><td>1</td><td>2</td></tr><tr><td>&quot;Black&quot;</td><td>&quot;F&quot;</td><td>1</td><td>4</td></tr><tr><td>&quot;Black&quot;</td><td>&quot;F&quot;</td><td>1</td><td>4</td></tr><tr><td>&quot;Black&quot;</td><td>&quot;F&quot;</td><td>1</td><td>3</td></tr><tr><td>&hellip;</td><td>&hellip;</td><td>&hellip;</td><td>&hellip;</td></tr><tr><td>&quot;Black&quot;</td><td>&quot;F&quot;</td><td>1</td><td>1</td></tr><tr><td>&quot;Black&quot;</td><td>&quot;F&quot;</td><td>1</td><td>1</td></tr><tr><td>&quot;Black&quot;</td><td>&quot;F&quot;</td><td>1</td><td>3</td></tr><tr><td>&quot;Black&quot;</td><td>&quot;F&quot;</td><td>1</td><td>3</td></tr><tr><td>&quot;Black&quot;</td><td>&quot;F&quot;</td><td>1</td><td>1</td></tr></tbody></table></div>"
      ],
      "text/plain": [
       "shape: (128, 4)\n",
       "┌───────────┬──────────┬───────────┬────────┐\n",
       "│ race_cell ┆ sex_cell ┆ work_cell ┆ weight │\n",
       "│ ---       ┆ ---      ┆ ---       ┆ ---    │\n",
       "│ str       ┆ str      ┆ i32       ┆ i32    │\n",
       "╞═══════════╪══════════╪═══════════╪════════╡\n",
       "│ Black     ┆ F        ┆ 1         ┆ 3      │\n",
       "│ Black     ┆ F        ┆ 1         ┆ 2      │\n",
       "│ Black     ┆ F        ┆ 1         ┆ 4      │\n",
       "│ Black     ┆ F        ┆ 1         ┆ 4      │\n",
       "│ Black     ┆ F        ┆ 1         ┆ 3      │\n",
       "│ …         ┆ …        ┆ …         ┆ …      │\n",
       "│ Black     ┆ F        ┆ 1         ┆ 1      │\n",
       "│ Black     ┆ F        ┆ 1         ┆ 1      │\n",
       "│ Black     ┆ F        ┆ 1         ┆ 3      │\n",
       "│ Black     ┆ F        ┆ 1         ┆ 3      │\n",
       "│ Black     ┆ F        ┆ 1         ┆ 1      │\n",
       "└───────────┴──────────┴───────────┴────────┘"
      ]
     },
     "execution_count": 36,
     "metadata": {},
     "output_type": "execute_result"
    }
   ],
   "source": [
    "imputer.recipient_cells[\"race_cell == 'Black' & sex_cell == 'F' & work_cell == 1\"]"
   ]
  },
  {
   "cell_type": "code",
   "execution_count": 37,
   "metadata": {},
   "outputs": [
    {
     "data": {
      "text/html": [
       "<div><style>\n",
       ".dataframe > thead > tr,\n",
       ".dataframe > tbody > tr {\n",
       "  text-align: right;\n",
       "  white-space: pre-wrap;\n",
       "}\n",
       "</style>\n",
       "<small>shape: (124, 4)</small><table border=\"1\" class=\"dataframe\"><thead><tr><th>race_cell</th><th>sex_cell</th><th>work_cell</th><th>weight</th></tr><tr><td>str</td><td>str</td><td>i32</td><td>i32</td></tr></thead><tbody><tr><td>&quot;Black&quot;</td><td>&quot;F&quot;</td><td>0</td><td>2</td></tr><tr><td>&quot;Black&quot;</td><td>&quot;F&quot;</td><td>0</td><td>1</td></tr><tr><td>&quot;Black&quot;</td><td>&quot;F&quot;</td><td>0</td><td>2</td></tr><tr><td>&quot;Black&quot;</td><td>&quot;F&quot;</td><td>0</td><td>2</td></tr><tr><td>&quot;Black&quot;</td><td>&quot;F&quot;</td><td>0</td><td>1</td></tr><tr><td>&hellip;</td><td>&hellip;</td><td>&hellip;</td><td>&hellip;</td></tr><tr><td>&quot;Black&quot;</td><td>&quot;F&quot;</td><td>0</td><td>1</td></tr><tr><td>&quot;Black&quot;</td><td>&quot;F&quot;</td><td>0</td><td>4</td></tr><tr><td>&quot;Black&quot;</td><td>&quot;F&quot;</td><td>0</td><td>3</td></tr><tr><td>&quot;Black&quot;</td><td>&quot;F&quot;</td><td>0</td><td>4</td></tr><tr><td>&quot;Black&quot;</td><td>&quot;F&quot;</td><td>0</td><td>4</td></tr></tbody></table></div>"
      ],
      "text/plain": [
       "shape: (124, 4)\n",
       "┌───────────┬──────────┬───────────┬────────┐\n",
       "│ race_cell ┆ sex_cell ┆ work_cell ┆ weight │\n",
       "│ ---       ┆ ---      ┆ ---       ┆ ---    │\n",
       "│ str       ┆ str      ┆ i32       ┆ i32    │\n",
       "╞═══════════╪══════════╪═══════════╪════════╡\n",
       "│ Black     ┆ F        ┆ 0         ┆ 2      │\n",
       "│ Black     ┆ F        ┆ 0         ┆ 1      │\n",
       "│ Black     ┆ F        ┆ 0         ┆ 2      │\n",
       "│ Black     ┆ F        ┆ 0         ┆ 2      │\n",
       "│ Black     ┆ F        ┆ 0         ┆ 1      │\n",
       "│ …         ┆ …        ┆ …         ┆ …      │\n",
       "│ Black     ┆ F        ┆ 0         ┆ 1      │\n",
       "│ Black     ┆ F        ┆ 0         ┆ 4      │\n",
       "│ Black     ┆ F        ┆ 0         ┆ 3      │\n",
       "│ Black     ┆ F        ┆ 0         ┆ 4      │\n",
       "│ Black     ┆ F        ┆ 0         ┆ 4      │\n",
       "└───────────┴──────────┴───────────┴────────┘"
      ]
     },
     "execution_count": 37,
     "metadata": {},
     "output_type": "execute_result"
    }
   ],
   "source": [
    "imputer.recipient_cells[\"race_cell == 'Black' & sex_cell == 'F' & work_cell == 0\"]"
   ]
  },
  {
   "cell_type": "code",
   "execution_count": 38,
   "metadata": {},
   "outputs": [
    {
     "name": "stdout",
     "output_type": "stream",
     "text": [
      "Cell collapsing completed successfully.\n",
      "To rerun with these cells submit imputer.impute() again.\n",
      "Cell collapsing completed successfully.\n",
      "To rerun with these cells submit imputer.impute() again.\n",
      "Cell collapsing completed successfully.\n",
      "To rerun with these cells submit imputer.impute() again.\n",
      "Cell collapsing completed successfully.\n",
      "To rerun with these cells submit imputer.impute() again.\n"
     ]
    },
    {
     "data": {
      "text/plain": [
       "[\"race_cell == 'Asian' & sex_cell == 'F'\",\n",
       " \"race_cell == 'Asian' & sex_cell == 'M'\",\n",
       " \"race_cell == 'Black' & sex_cell == 'F'\",\n",
       " \"race_cell == 'Black' & sex_cell == 'M'\",\n",
       " \"race_cell == 'White' & sex_cell == 'F'\",\n",
       " \"race_cell == 'White' & sex_cell == 'M'\"]"
      ]
     },
     "execution_count": 38,
     "metadata": {},
     "output_type": "execute_result"
    }
   ],
   "source": [
    "# Collapse cell for White and Black folks back to original, without work\n",
    "imputer.collapse_cell(\"race_cell == 'Black' & sex_cell == 'F'\")\n",
    "imputer.collapse_cell(\"race_cell == 'Black' & sex_cell == 'M'\")\n",
    "imputer.collapse_cell(\"race_cell == 'White' & sex_cell == 'F'\")\n",
    "imputer.collapse_cell(\"race_cell == 'White' & sex_cell == 'M'\")\n",
    "\n",
    "imputer.cell_definitions"
   ]
  },
  {
   "cell_type": "markdown",
   "metadata": {},
   "source": [
    "#### Impute Data + Apply Smoothing"
   ]
  },
  {
   "cell_type": "code",
   "execution_count": 39,
   "metadata": {},
   "outputs": [],
   "source": [
    "imputer.impute()"
   ]
  },
  {
   "cell_type": "code",
   "execution_count": 40,
   "metadata": {},
   "outputs": [
    {
     "data": {
      "text/plain": [
       "{\"race_cell == 'Asian' & sex_cell == 'F'\": shape: (220, 5)\n",
       " ┌───────────┬──────────┬───────────┬────────┬──────────────────┐\n",
       " │ race_cell ┆ sex_cell ┆ work_cell ┆ weight ┆ imp_donor_assets │\n",
       " │ ---       ┆ ---      ┆ ---       ┆ ---    ┆ ---              │\n",
       " │ str       ┆ str      ┆ i32       ┆ i32    ┆ f64              │\n",
       " ╞═══════════╪══════════╪═══════════╪════════╪══════════════════╡\n",
       " │ Asian     ┆ F        ┆ 1         ┆ 3      ┆ 177946.173465    │\n",
       " │ Asian     ┆ F        ┆ 1         ┆ 4      ┆ 502510.649933    │\n",
       " │ Asian     ┆ F        ┆ 1         ┆ 1      ┆ 390331.492604    │\n",
       " │ Asian     ┆ F        ┆ 1         ┆ 1      ┆ 119112.031376    │\n",
       " │ Asian     ┆ F        ┆ 1         ┆ 2      ┆ 386085.432093    │\n",
       " │ …         ┆ …        ┆ …         ┆ …      ┆ …                │\n",
       " │ Asian     ┆ F        ┆ 1         ┆ 3      ┆ 417232.834155    │\n",
       " │ Asian     ┆ F        ┆ 1         ┆ 4      ┆ 101391.478261    │\n",
       " │ Asian     ┆ F        ┆ 0         ┆ 2      ┆ 476970.76199     │\n",
       " │ Asian     ┆ F        ┆ 1         ┆ 4      ┆ 110043.855222    │\n",
       " │ Asian     ┆ F        ┆ 0         ┆ 3      ┆ 590504.154191    │\n",
       " └───────────┴──────────┴───────────┴────────┴──────────────────┘,\n",
       " \"race_cell == 'Asian' & sex_cell == 'M'\": shape: (246, 5)\n",
       " ┌───────────┬──────────┬───────────┬────────┬──────────────────┐\n",
       " │ race_cell ┆ sex_cell ┆ work_cell ┆ weight ┆ imp_donor_assets │\n",
       " │ ---       ┆ ---      ┆ ---       ┆ ---    ┆ ---              │\n",
       " │ str       ┆ str      ┆ i32       ┆ i32    ┆ f64              │\n",
       " ╞═══════════╪══════════╪═══════════╪════════╪══════════════════╡\n",
       " │ Asian     ┆ M        ┆ 0         ┆ 1      ┆ 679613.675034    │\n",
       " │ Asian     ┆ M        ┆ 1         ┆ 1      ┆ 126901.047512    │\n",
       " │ Asian     ┆ M        ┆ 1         ┆ 2      ┆ 555220.416405    │\n",
       " │ Asian     ┆ M        ┆ 0         ┆ 3      ┆ 216884.03541     │\n",
       " │ Asian     ┆ M        ┆ 0         ┆ 4      ┆ 457975.380099    │\n",
       " │ …         ┆ …        ┆ …         ┆ …      ┆ …                │\n",
       " │ Asian     ┆ M        ┆ 1         ┆ 2      ┆ 153671.008068    │\n",
       " │ Asian     ┆ M        ┆ 1         ┆ 1      ┆ 412654.711788    │\n",
       " │ Asian     ┆ M        ┆ 1         ┆ 1      ┆ 679613.675034    │\n",
       " │ Asian     ┆ M        ┆ 0         ┆ 3      ┆ 293453.168086    │\n",
       " │ Asian     ┆ M        ┆ 1         ┆ 1      ┆ 530966.907216    │\n",
       " └───────────┴──────────┴───────────┴────────┴──────────────────┘,\n",
       " \"race_cell == 'Black' & sex_cell == 'F'\": shape: (252, 5)\n",
       " ┌───────────┬──────────┬───────────┬────────┬──────────────────┐\n",
       " │ race_cell ┆ sex_cell ┆ work_cell ┆ weight ┆ imp_donor_assets │\n",
       " │ ---       ┆ ---      ┆ ---       ┆ ---    ┆ ---              │\n",
       " │ str       ┆ str      ┆ i32       ┆ i32    ┆ f64              │\n",
       " ╞═══════════╪══════════╪═══════════╪════════╪══════════════════╡\n",
       " │ Black     ┆ F        ┆ 0         ┆ 2      ┆ 407359.047064    │\n",
       " │ Black     ┆ F        ┆ 0         ┆ 1      ┆ 240350.702376    │\n",
       " │ Black     ┆ F        ┆ 0         ┆ 2      ┆ 523316.490811    │\n",
       " │ Black     ┆ F        ┆ 0         ┆ 2      ┆ 106936.911251    │\n",
       " │ Black     ┆ F        ┆ 0         ┆ 1      ┆ 270436.950247    │\n",
       " │ …         ┆ …        ┆ …         ┆ …      ┆ …                │\n",
       " │ Black     ┆ F        ┆ 1         ┆ 1      ┆ 716449.441058    │\n",
       " │ Black     ┆ F        ┆ 1         ┆ 1      ┆ 716449.441058    │\n",
       " │ Black     ┆ F        ┆ 1         ┆ 3      ┆ 608510.569251    │\n",
       " │ Black     ┆ F        ┆ 1         ┆ 3      ┆ 416903.659794    │\n",
       " │ Black     ┆ F        ┆ 1         ┆ 1      ┆ 659918.075751    │\n",
       " └───────────┴──────────┴───────────┴────────┴──────────────────┘,\n",
       " \"race_cell == 'Black' & sex_cell == 'M'\": shape: (251, 5)\n",
       " ┌───────────┬──────────┬───────────┬────────┬──────────────────┐\n",
       " │ race_cell ┆ sex_cell ┆ work_cell ┆ weight ┆ imp_donor_assets │\n",
       " │ ---       ┆ ---      ┆ ---       ┆ ---    ┆ ---              │\n",
       " │ str       ┆ str      ┆ i32       ┆ i32    ┆ f64              │\n",
       " ╞═══════════╪══════════╪═══════════╪════════╪══════════════════╡\n",
       " │ Black     ┆ M        ┆ 0         ┆ 2      ┆ 492714.82519     │\n",
       " │ Black     ┆ M        ┆ 0         ┆ 3      ┆ 246015.966383    │\n",
       " │ Black     ┆ M        ┆ 1         ┆ 2      ┆ 620941.232631    │\n",
       " │ Black     ┆ M        ┆ 1         ┆ 1      ┆ 245793.629314    │\n",
       " │ Black     ┆ M        ┆ 1         ┆ 3      ┆ 261911.623039    │\n",
       " │ …         ┆ …        ┆ …         ┆ …      ┆ …                │\n",
       " │ Black     ┆ M        ┆ 0         ┆ 3      ┆ 251386.705961    │\n",
       " │ Black     ┆ M        ┆ 1         ┆ 4      ┆ 521438.175706    │\n",
       " │ Black     ┆ M        ┆ 0         ┆ 2      ┆ 142552.710892    │\n",
       " │ Black     ┆ M        ┆ 1         ┆ 4      ┆ 703436.947557    │\n",
       " │ Black     ┆ M        ┆ 1         ┆ 3      ┆ 78604.816226     │\n",
       " └───────────┴──────────┴───────────┴────────┴──────────────────┘,\n",
       " \"race_cell == 'White' & sex_cell == 'F'\": shape: (278, 5)\n",
       " ┌───────────┬──────────┬───────────┬────────┬──────────────────┐\n",
       " │ race_cell ┆ sex_cell ┆ work_cell ┆ weight ┆ imp_donor_assets │\n",
       " │ ---       ┆ ---      ┆ ---       ┆ ---    ┆ ---              │\n",
       " │ str       ┆ str      ┆ i32       ┆ i32    ┆ f64              │\n",
       " ╞═══════════╪══════════╪═══════════╪════════╪══════════════════╡\n",
       " │ White     ┆ F        ┆ 1         ┆ 4      ┆ 578525.383684    │\n",
       " │ White     ┆ F        ┆ 1         ┆ 4      ┆ 628092.112506    │\n",
       " │ White     ┆ F        ┆ 1         ┆ 2      ┆ 355095.398476    │\n",
       " │ White     ┆ F        ┆ 1         ┆ 1      ┆ 404086.072165    │\n",
       " │ White     ┆ F        ┆ 1         ┆ 4      ┆ 682267.282385    │\n",
       " │ …         ┆ …        ┆ …         ┆ …      ┆ …                │\n",
       " │ White     ┆ F        ┆ 0         ┆ 2      ┆ 612388.474227    │\n",
       " │ White     ┆ F        ┆ 0         ┆ 1      ┆ 41240.638727     │\n",
       " │ White     ┆ F        ┆ 0         ┆ 3      ┆ 22352.094128     │\n",
       " │ White     ┆ F        ┆ 0         ┆ 1      ┆ 502019.775885    │\n",
       " │ White     ┆ F        ┆ 0         ┆ 2      ┆ 332874.685343    │\n",
       " └───────────┴──────────┴───────────┴────────┴──────────────────┘,\n",
       " \"race_cell == 'White' & sex_cell == 'M'\": shape: (253, 5)\n",
       " ┌───────────┬──────────┬───────────┬────────┬──────────────────┐\n",
       " │ race_cell ┆ sex_cell ┆ work_cell ┆ weight ┆ imp_donor_assets │\n",
       " │ ---       ┆ ---      ┆ ---       ┆ ---    ┆ ---              │\n",
       " │ str       ┆ str      ┆ i32       ┆ i32    ┆ f64              │\n",
       " ╞═══════════╪══════════╪═══════════╪════════╪══════════════════╡\n",
       " │ White     ┆ M        ┆ 0         ┆ 4      ┆ 288921.24563     │\n",
       " │ White     ┆ M        ┆ 1         ┆ 3      ┆ 292560.932317    │\n",
       " │ White     ┆ M        ┆ 0         ┆ 2      ┆ 144904.575078    │\n",
       " │ White     ┆ M        ┆ 0         ┆ 4      ┆ 487.986553       │\n",
       " │ White     ┆ M        ┆ 0         ┆ 4      ┆ 196010.338413    │\n",
       " │ …         ┆ …        ┆ …         ┆ …      ┆ …                │\n",
       " │ White     ┆ M        ┆ 1         ┆ 1      ┆ 113415.004931    │\n",
       " │ White     ┆ M        ┆ 0         ┆ 3      ┆ 677879.734648    │\n",
       " │ White     ┆ M        ┆ 1         ┆ 3      ┆ 184792.42268     │\n",
       " │ White     ┆ M        ┆ 0         ┆ 4      ┆ 543079.946212    │\n",
       " │ White     ┆ M        ┆ 0         ┆ 4      ┆ 677879.734648    │\n",
       " └───────────┴──────────┴───────────┴────────┴──────────────────┘}"
      ]
     },
     "execution_count": 40,
     "metadata": {},
     "output_type": "execute_result"
    }
   ],
   "source": [
    "# Notice imp_donor_assets has been added to recipient cells\n",
    "imputer.recipient_cells"
   ]
  },
  {
   "cell_type": "code",
   "execution_count": 41,
   "metadata": {},
   "outputs": [
    {
     "data": {
      "text/html": [
       "<div><style>\n",
       ".dataframe > thead > tr,\n",
       ".dataframe > tbody > tr {\n",
       "  text-align: right;\n",
       "  white-space: pre-wrap;\n",
       "}\n",
       "</style>\n",
       "<small>shape: (1_500, 5)</small><table border=\"1\" class=\"dataframe\"><thead><tr><th>race_cell</th><th>sex_cell</th><th>work_cell</th><th>weight</th><th>imp_donor_assets</th></tr><tr><td>str</td><td>str</td><td>i32</td><td>i32</td><td>f64</td></tr></thead><tbody><tr><td>&quot;Asian&quot;</td><td>&quot;F&quot;</td><td>1</td><td>3</td><td>177946.173465</td></tr><tr><td>&quot;Asian&quot;</td><td>&quot;F&quot;</td><td>1</td><td>4</td><td>502510.649933</td></tr><tr><td>&quot;Asian&quot;</td><td>&quot;F&quot;</td><td>1</td><td>1</td><td>390331.492604</td></tr><tr><td>&quot;Asian&quot;</td><td>&quot;F&quot;</td><td>1</td><td>1</td><td>119112.031376</td></tr><tr><td>&quot;Asian&quot;</td><td>&quot;F&quot;</td><td>1</td><td>2</td><td>386085.432093</td></tr><tr><td>&hellip;</td><td>&hellip;</td><td>&hellip;</td><td>&hellip;</td><td>&hellip;</td></tr><tr><td>&quot;White&quot;</td><td>&quot;M&quot;</td><td>1</td><td>1</td><td>113415.004931</td></tr><tr><td>&quot;White&quot;</td><td>&quot;M&quot;</td><td>0</td><td>3</td><td>677879.734648</td></tr><tr><td>&quot;White&quot;</td><td>&quot;M&quot;</td><td>1</td><td>3</td><td>184792.42268</td></tr><tr><td>&quot;White&quot;</td><td>&quot;M&quot;</td><td>0</td><td>4</td><td>543079.946212</td></tr><tr><td>&quot;White&quot;</td><td>&quot;M&quot;</td><td>0</td><td>4</td><td>677879.734648</td></tr></tbody></table></div>"
      ],
      "text/plain": [
       "shape: (1_500, 5)\n",
       "┌───────────┬──────────┬───────────┬────────┬──────────────────┐\n",
       "│ race_cell ┆ sex_cell ┆ work_cell ┆ weight ┆ imp_donor_assets │\n",
       "│ ---       ┆ ---      ┆ ---       ┆ ---    ┆ ---              │\n",
       "│ str       ┆ str      ┆ i32       ┆ i32    ┆ f64              │\n",
       "╞═══════════╪══════════╪═══════════╪════════╪══════════════════╡\n",
       "│ Asian     ┆ F        ┆ 1         ┆ 3      ┆ 177946.173465    │\n",
       "│ Asian     ┆ F        ┆ 1         ┆ 4      ┆ 502510.649933    │\n",
       "│ Asian     ┆ F        ┆ 1         ┆ 1      ┆ 390331.492604    │\n",
       "│ Asian     ┆ F        ┆ 1         ┆ 1      ┆ 119112.031376    │\n",
       "│ Asian     ┆ F        ┆ 1         ┆ 2      ┆ 386085.432093    │\n",
       "│ …         ┆ …        ┆ …         ┆ …      ┆ …                │\n",
       "│ White     ┆ M        ┆ 1         ┆ 1      ┆ 113415.004931    │\n",
       "│ White     ┆ M        ┆ 0         ┆ 3      ┆ 677879.734648    │\n",
       "│ White     ┆ M        ┆ 1         ┆ 3      ┆ 184792.42268     │\n",
       "│ White     ┆ M        ┆ 0         ┆ 4      ┆ 543079.946212    │\n",
       "│ White     ┆ M        ┆ 0         ┆ 4      ┆ 677879.734648    │\n",
       "└───────────┴──────────┴───────────┴────────┴──────────────────┘"
      ]
     },
     "execution_count": 41,
     "metadata": {},
     "output_type": "execute_result"
    }
   ],
   "source": [
    "imputer.recipient_data"
   ]
  },
  {
   "cell_type": "code",
   "execution_count": 42,
   "metadata": {},
   "outputs": [],
   "source": [
    "# To smooth out clusters, you can add random noise proportional to the standard deviation of the variable \n",
    "# and set a floor value that the noise cannot send a value below (to avoid negative or impossible values)\n",
    "imputer.apply_random_noise(variation_stdev = (1/6), floor_noise = 1.5)"
   ]
  },
  {
   "cell_type": "code",
   "execution_count": 43,
   "metadata": {},
   "outputs": [
    {
     "data": {
      "text/plain": [
       "0.16666666666666666"
      ]
     },
     "execution_count": 43,
     "metadata": {},
     "output_type": "execute_result"
    }
   ],
   "source": [
    "# Take a look at the random noise used, initialized after above function is called\n",
    "imputer.random_noise"
   ]
  },
  {
   "cell_type": "markdown",
   "metadata": {},
   "source": [
    "#### Examine Results"
   ]
  },
  {
   "cell_type": "code",
   "execution_count": 44,
   "metadata": {},
   "outputs": [
    {
     "data": {
      "text/plain": [
       "['donor_assets', 'race_cell', 'sex_cell', 'work_cell', 'weight']"
      ]
     },
     "execution_count": 44,
     "metadata": {},
     "output_type": "execute_result"
    }
   ],
   "source": [
    "imputer.donor_data.columns"
   ]
  },
  {
   "cell_type": "code",
   "execution_count": 45,
   "metadata": {},
   "outputs": [
    {
     "data": {
      "text/plain": [
       "{'mean': 359583.65768579114,\n",
       " 'median': 348509.0237561632,\n",
       " 'min': 487.986553115195,\n",
       " 'max': 720146.8776333483,\n",
       " 'std_dev': 205718.01976770462,\n",
       " 'count': 1000,\n",
       " 'missing_values': 0}"
      ]
     },
     "execution_count": 45,
     "metadata": {},
     "output_type": "execute_result"
    }
   ],
   "source": [
    "imputer.summarize_column(imputer.donor_data, 'donor_assets')"
   ]
  },
  {
   "cell_type": "code",
   "execution_count": 46,
   "metadata": {},
   "outputs": [
    {
     "data": {
      "text/plain": [
       "{'mean': 364212.1075895346,\n",
       " 'median': 361450.18070705445,\n",
       " 'min': 518.305244285074,\n",
       " 'max': 719999.0984414826,\n",
       " 'std_dev': 210015.9734662878,\n",
       " 'count': 1500,\n",
       " 'missing_values': 0}"
      ]
     },
     "execution_count": 46,
     "metadata": {},
     "output_type": "execute_result"
    }
   ],
   "source": [
    "imputer.summarize_column(imputer.recipient_data, 'imp_donor_assets')"
   ]
  },
  {
   "cell_type": "code",
   "execution_count": 47,
   "metadata": {},
   "outputs": [
    {
     "data": {
      "image/png": "[encoded data removed]",
      "text/plain": [
       "<Figure size 640x480 with 1 Axes>"
      ]
     },
     "metadata": {},
     "output_type": "display_data"
    }
   ],
   "source": [
    "# Compare the input to the output in the process\n",
    "plot_data = imputer.recipient_data[['weight','imp_donor_assets']]\n",
    "plot_data_donor = imputer.donor_data[['weight','donor_assets']]\n",
    "\n",
    "# Create a weighted histogram plot for donor data\n",
    "sns.kdeplot(data=plot_data_donor, x='donor_assets', weights='weight', color='green', label='Donor', alpha=0.5)\n",
    "\n",
    "# Create a weighted histogram plot for recipient data\n",
    "sns.kdeplot(data=plot_data, x='imp_donor_assets', weights='weight', color='blue', label='Recipient', alpha=0.5)\n",
    "\n",
    "# Add titles and labels\n",
    "plt.title('Liquid assets post noise injection')\n",
    "plt.xlabel('Liquid Assets Value')\n",
    "plt.ylabel('Weighted Density')\n",
    "\n",
    "# Add a legend to differentiate between recipient and donor data\n",
    "plt.legend()\n",
    "\n",
    "# Show the plot\n",
    "plt.show()"
   ]
  },
  {
   "cell_type": "code",
   "execution_count": 48,
   "metadata": {},
   "outputs": [
    {
     "name": "stdout",
     "output_type": "stream",
     "text": [
      "Cell data written to '.\\hot_deck_stats.xlsx'.\n"
     ]
    }
   ],
   "source": [
    "imputer.gen_analysis_file('hot_deck_stats', '')"
   ]
  }
 ],
 "metadata": {
  "kernelspec": {
   "display_name": ".venv",
   "language": "python",
   "name": "python3"
  },
  "language_info": {
   "codemirror_mode": {
    "name": "ipython",
    "version": 3
   },
   "file_extension": ".py",
   "mimetype": "text/x-python",
   "name": "python",
   "nbconvert_exporter": "python",
   "pygments_lexer": "ipython3",
   "version": "3.12.4"
  }
 },
 "nbformat": 4,
 "nbformat_minor": 2
}
