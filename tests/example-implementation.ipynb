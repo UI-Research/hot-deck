{
 "cells": [
  {
   "cell_type": "markdown",
   "metadata": {},
   "source": [
    "### Example Implementation\n",
    "This file goes through every step of the process, using features available to HotDeckImputer."
   ]
  },
  {
   "cell_type": "code",
   "execution_count": 1,
   "metadata": {},
   "outputs": [],
   "source": [
    "# from hot_deck_imputer import HotDeckImputer\n",
    "# Add the src directory to the Python path\n",
    "import sys\n",
    "import os\n",
    "\n",
    "# Import the HotDeckImputer class\n",
    "from hot_deck_imputer import HotDeckImputer\n",
    "import polars as pl\n",
    "import numpy as np\n",
    "import seaborn as sns\n",
    "import matplotlib.pyplot as plt"
   ]
  },
  {
   "cell_type": "markdown",
   "metadata": {},
   "source": [
    "#### Generate Data"
   ]
  },
  {
   "cell_type": "code",
   "execution_count": 2,
   "metadata": {},
   "outputs": [],
   "source": [
    "# Create possibilities for race, sex, and work\n",
    "race_categories = ['Black', 'White']\n",
    "sex_categories = ['M', 'F']\n",
    "work_categories = [0, 1]\n",
    "np.random.seed(42)  # For reproducibility\n",
    "\n",
    "# Generate polars frames\n",
    "donor_data = {\n",
    "    'donor_assets': np.random.randint(200, 500000, size=1000),\n",
    "    'race_cell': np.random.choice(race_categories, size=1000),\n",
    "    'sex_cell': np.random.choice(sex_categories, size=1000),\n",
    "    'work_cell': np.random.choice(work_categories, size=1000),\n",
    "    'weight': np.random.randint(1, 5, size=1000)\n",
    "}\n",
    "\n",
    "donor_data = pl.DataFrame(donor_data)\n",
    "\n",
    "recipient_data = {\n",
    "    'race_cell': np.random.choice(race_categories, size=1500),\n",
    "    'sex_cell': np.random.choice(sex_categories, size=1500),\n",
    "    'work_cell': np.random.choice(work_categories, size=1500),\n",
    "    'weight': np.random.randint(1, 5, size=1500)\n",
    "}\n",
    "\n",
    "recipient_data = pl.DataFrame(recipient_data)"
   ]
  },
  {
   "cell_type": "markdown",
   "metadata": {},
   "source": [
    "#### Create Imputer + Define Cells"
   ]
  },
  {
   "cell_type": "code",
   "execution_count": 3,
   "metadata": {},
   "outputs": [],
   "source": [
    "imputer = HotDeckImputer(donor_data = donor_data, \n",
    "                         imputation_var = 'donor_assets', \n",
    "                         weight_var = 'weight', \n",
    "                         recipient_data = recipient_data)"
   ]
  },
  {
   "cell_type": "code",
   "execution_count": 4,
   "metadata": {},
   "outputs": [
    {
     "name": "stdout",
     "output_type": "stream",
     "text": [
      "Summary of donor_assets pre CPI aging:\n",
      "{'mean': 243894.595, 'median': 234681.5, 'min': 1215, 'max': 499816, 'std_dev': 145575.1328812389, 'count': 1000, 'missing_values': 0}\n",
      "Summary of donor_assets post CPI aging:\n",
      "{'mean': 352122.1382765577, 'median': 338820.7581801883, 'min': 1754.152846257284, 'max': 721607.9497982968, 'std_dev': 210173.6902781132, 'count': 1000, 'missing_values': 0}\n"
     ]
    }
   ],
   "source": [
    "# If you are imputing from one dataset to another across years, this will adjust the donor data to the recipient year\n",
    "imputer.age_dollar_amounts(donor_year_cpi = 223.1, imp_year_cpi = 322.1)"
   ]
  },
  {
   "cell_type": "code",
   "execution_count": null,
   "metadata": {},
   "outputs": [],
   "source": [
    "imputer[]"
   ]
  },
  {
   "cell_type": "code",
   "execution_count": 5,
   "metadata": {},
   "outputs": [
    {
     "data": {
      "text/plain": [
       "[\"race_cell == 'White' & sex_cell == 'M'\",\n",
       " \"race_cell == 'White' & sex_cell == 'F'\",\n",
       " \"race_cell == 'Black' & sex_cell == 'M'\",\n",
       " \"race_cell == 'Black' & sex_cell == 'F'\"]"
      ]
     },
     "execution_count": 5,
     "metadata": {},
     "output_type": "execute_result"
    }
   ],
   "source": [
    "# The variables create cells held in imputer.donor_cells, a dictionary.\n",
    "# These cells divide the data according to every unique combination of the variables. \n",
    "# Key: combination of variables defining cell, Value: pl.DataFrame of data in that cell\n",
    "variables = ['race_cell','sex_cell']\n",
    "\n",
    "imputer.define_cells(variables)\n",
    "\n",
    "# Take a look at cell definitions\n",
    "imputer.cell_definitions"
   ]
  },
  {
   "cell_type": "code",
   "execution_count": 6,
   "metadata": {},
   "outputs": [],
   "source": [
    "# Create the cells after defining them, assuming above looks right\n",
    "imputer.generate_cells()"
   ]
  },
  {
   "cell_type": "code",
   "execution_count": 7,
   "metadata": {},
   "outputs": [
    {
     "data": {
      "text/plain": [
       "{\"race_cell == 'White' & sex_cell == 'M'\": shape: (355, 4)\n",
       " ┌───────────┬──────────┬───────────┬────────┐\n",
       " │ race_cell ┆ sex_cell ┆ work_cell ┆ weight │\n",
       " │ ---       ┆ ---      ┆ ---       ┆ ---    │\n",
       " │ str       ┆ str      ┆ i64       ┆ i32    │\n",
       " ╞═══════════╪══════════╪═══════════╪════════╡\n",
       " │ White     ┆ M        ┆ 1         ┆ 4      │\n",
       " │ White     ┆ M        ┆ 0         ┆ 4      │\n",
       " │ White     ┆ M        ┆ 1         ┆ 4      │\n",
       " │ White     ┆ M        ┆ 0         ┆ 4      │\n",
       " │ White     ┆ M        ┆ 1         ┆ 4      │\n",
       " │ …         ┆ …        ┆ …         ┆ …      │\n",
       " │ White     ┆ M        ┆ 0         ┆ 3      │\n",
       " │ White     ┆ M        ┆ 1         ┆ 3      │\n",
       " │ White     ┆ M        ┆ 1         ┆ 3      │\n",
       " │ White     ┆ M        ┆ 1         ┆ 4      │\n",
       " │ White     ┆ M        ┆ 0         ┆ 1      │\n",
       " └───────────┴──────────┴───────────┴────────┘,\n",
       " \"race_cell == 'White' & sex_cell == 'F'\": shape: (371, 4)\n",
       " ┌───────────┬──────────┬───────────┬────────┐\n",
       " │ race_cell ┆ sex_cell ┆ work_cell ┆ weight │\n",
       " │ ---       ┆ ---      ┆ ---       ┆ ---    │\n",
       " │ str       ┆ str      ┆ i64       ┆ i32    │\n",
       " ╞═══════════╪══════════╪═══════════╪════════╡\n",
       " │ White     ┆ F        ┆ 0         ┆ 3      │\n",
       " │ White     ┆ F        ┆ 1         ┆ 3      │\n",
       " │ White     ┆ F        ┆ 1         ┆ 2      │\n",
       " │ White     ┆ F        ┆ 0         ┆ 3      │\n",
       " │ White     ┆ F        ┆ 0         ┆ 3      │\n",
       " │ …         ┆ …        ┆ …         ┆ …      │\n",
       " │ White     ┆ F        ┆ 1         ┆ 3      │\n",
       " │ White     ┆ F        ┆ 0         ┆ 1      │\n",
       " │ White     ┆ F        ┆ 0         ┆ 4      │\n",
       " │ White     ┆ F        ┆ 1         ┆ 4      │\n",
       " │ White     ┆ F        ┆ 1         ┆ 3      │\n",
       " └───────────┴──────────┴───────────┴────────┘,\n",
       " \"race_cell == 'Black' & sex_cell == 'M'\": shape: (379, 4)\n",
       " ┌───────────┬──────────┬───────────┬────────┐\n",
       " │ race_cell ┆ sex_cell ┆ work_cell ┆ weight │\n",
       " │ ---       ┆ ---      ┆ ---       ┆ ---    │\n",
       " │ str       ┆ str      ┆ i64       ┆ i32    │\n",
       " ╞═══════════╪══════════╪═══════════╪════════╡\n",
       " │ Black     ┆ M        ┆ 0         ┆ 4      │\n",
       " │ Black     ┆ M        ┆ 1         ┆ 4      │\n",
       " │ Black     ┆ M        ┆ 1         ┆ 1      │\n",
       " │ Black     ┆ M        ┆ 1         ┆ 1      │\n",
       " │ Black     ┆ M        ┆ 0         ┆ 4      │\n",
       " │ …         ┆ …        ┆ …         ┆ …      │\n",
       " │ Black     ┆ M        ┆ 1         ┆ 3      │\n",
       " │ Black     ┆ M        ┆ 1         ┆ 1      │\n",
       " │ Black     ┆ M        ┆ 1         ┆ 2      │\n",
       " │ Black     ┆ M        ┆ 0         ┆ 4      │\n",
       " │ Black     ┆ M        ┆ 1         ┆ 3      │\n",
       " └───────────┴──────────┴───────────┴────────┘,\n",
       " \"race_cell == 'Black' & sex_cell == 'F'\": shape: (395, 4)\n",
       " ┌───────────┬──────────┬───────────┬────────┐\n",
       " │ race_cell ┆ sex_cell ┆ work_cell ┆ weight │\n",
       " │ ---       ┆ ---      ┆ ---       ┆ ---    │\n",
       " │ str       ┆ str      ┆ i64       ┆ i32    │\n",
       " ╞═══════════╪══════════╪═══════════╪════════╡\n",
       " │ Black     ┆ F        ┆ 1         ┆ 3      │\n",
       " │ Black     ┆ F        ┆ 0         ┆ 1      │\n",
       " │ Black     ┆ F        ┆ 1         ┆ 3      │\n",
       " │ Black     ┆ F        ┆ 1         ┆ 1      │\n",
       " │ Black     ┆ F        ┆ 0         ┆ 2      │\n",
       " │ …         ┆ …        ┆ …         ┆ …      │\n",
       " │ Black     ┆ F        ┆ 0         ┆ 2      │\n",
       " │ Black     ┆ F        ┆ 1         ┆ 2      │\n",
       " │ Black     ┆ F        ┆ 1         ┆ 4      │\n",
       " │ Black     ┆ F        ┆ 0         ┆ 2      │\n",
       " │ Black     ┆ F        ┆ 0         ┆ 1      │\n",
       " └───────────┴──────────┴───────────┴────────┘}"
      ]
     },
     "execution_count": 7,
     "metadata": {},
     "output_type": "execute_result"
    }
   ],
   "source": [
    "# Take a look at the recipient cells\n",
    "imputer.recipient_cells"
   ]
  },
  {
   "cell_type": "code",
   "execution_count": 8,
   "metadata": {},
   "outputs": [
    {
     "data": {
      "text/plain": [
       "{\"race_cell == 'White' & sex_cell == 'M'\": shape: (241, 5)\n",
       " ┌───────────────┬───────────┬──────────┬───────────┬────────┐\n",
       " │ donor_assets  ┆ race_cell ┆ sex_cell ┆ work_cell ┆ weight │\n",
       " │ ---           ┆ ---       ┆ ---      ┆ ---       ┆ ---    │\n",
       " │ f64           ┆ str       ┆ str      ┆ i64       ┆ i32    │\n",
       " ╞═══════════════╪═══════════╪══════════╪═══════════╪════════╡\n",
       " │ 212327.569251 ┆ White     ┆ M        ┆ 1         ┆ 4      │\n",
       " │ 475808.545495 ┆ White     ┆ M        ┆ 1         ┆ 3      │\n",
       " │ 472493.701927 ┆ White     ┆ M        ┆ 1         ┆ 3      │\n",
       " │ 267062.913043 ┆ White     ┆ M        ┆ 1         ┆ 1      │\n",
       " │ 226567.247871 ┆ White     ┆ M        ┆ 0         ┆ 2      │\n",
       " │ …             ┆ …         ┆ …        ┆ …         ┆ …      │\n",
       " │ 460431.194083 ┆ White     ┆ M        ┆ 1         ┆ 1      │\n",
       " │ 89531.095025  ┆ White     ┆ M        ┆ 1         ┆ 2      │\n",
       " │ 145381.011654 ┆ White     ┆ M        ┆ 0         ┆ 2      │\n",
       " │ 580142.380547 ┆ White     ┆ M        ┆ 1         ┆ 1      │\n",
       " │ 163166.533393 ┆ White     ┆ M        ┆ 1         ┆ 3      │\n",
       " └───────────────┴───────────┴──────────┴───────────┴────────┘,\n",
       " \"race_cell == 'White' & sex_cell == 'F'\": shape: (236, 5)\n",
       " ┌───────────────┬───────────┬──────────┬───────────┬────────┐\n",
       " │ donor_assets  ┆ race_cell ┆ sex_cell ┆ work_cell ┆ weight │\n",
       " │ ---           ┆ ---       ┆ ---      ┆ ---       ┆ ---    │\n",
       " │ f64           ┆ str       ┆ str      ┆ i64       ┆ i32    │\n",
       " ╞═══════════════╪═══════════╪══════════╪═══════════╪════════╡\n",
       " │ 374476.26087  ┆ White     ┆ F        ┆ 1         ┆ 3      │\n",
       " │ 686937.804572 ┆ White     ┆ F        ┆ 1         ┆ 4      │\n",
       " │ 276528.119677 ┆ White     ┆ F        ┆ 0         ┆ 2      │\n",
       " │ 59612.321829  ┆ White     ┆ F        ┆ 0         ┆ 3      │\n",
       " │ 501917.269834 ┆ White     ┆ F        ┆ 0         ┆ 1      │\n",
       " │ …             ┆ …         ┆ …        ┆ …         ┆ …      │\n",
       " │ 258253.167638 ┆ White     ┆ F        ┆ 0         ┆ 3      │\n",
       " │ 622982.69117  ┆ White     ┆ F        ┆ 1         ┆ 1      │\n",
       " │ 239114.854774 ┆ White     ┆ F        ┆ 0         ┆ 1      │\n",
       " │ 177006.294039 ┆ White     ┆ F        ┆ 1         ┆ 1      │\n",
       " │ 73905.419095  ┆ White     ┆ F        ┆ 1         ┆ 2      │\n",
       " └───────────────┴───────────┴──────────┴───────────┴────────┘,\n",
       " \"race_cell == 'Black' & sex_cell == 'M'\": shape: (262, 5)\n",
       " ┌───────────────┬───────────┬──────────┬───────────┬────────┐\n",
       " │ donor_assets  ┆ race_cell ┆ sex_cell ┆ work_cell ┆ weight │\n",
       " │ ---           ┆ ---       ┆ ---      ┆ ---       ┆ ---    │\n",
       " │ f64           ┆ str       ┆ str      ┆ i64       ┆ i32    │\n",
       " ╞═══════════════╪═══════════╪══════════╪═══════════╪════════╡\n",
       " │ 176365.270282 ┆ Black     ┆ M        ┆ 0         ┆ 4      │\n",
       " │ 190765.204841 ┆ Black     ┆ M        ┆ 0         ┆ 3      │\n",
       " │ 528466.337069 ┆ Black     ┆ M        ┆ 0         ┆ 4      │\n",
       " │ 300432.242044 ┆ Black     ┆ M        ┆ 1         ┆ 2      │\n",
       " │ 79530.25818   ┆ Black     ┆ M        ┆ 0         ┆ 4      │\n",
       " │ …             ┆ …         ┆ …        ┆ …         ┆ …      │\n",
       " │ 187215.03048  ┆ Black     ┆ M        ┆ 1         ┆ 3      │\n",
       " │ 690410.016584 ┆ Black     ┆ M        ┆ 0         ┆ 1      │\n",
       " │ 326800.840879 ┆ Black     ┆ M        ┆ 0         ┆ 3      │\n",
       " │ 1754.152846   ┆ Black     ┆ M        ┆ 0         ┆ 4      │\n",
       " │ 186211.626177 ┆ Black     ┆ M        ┆ 0         ┆ 3      │\n",
       " └───────────────┴───────────┴──────────┴───────────┴────────┘,\n",
       " \"race_cell == 'Black' & sex_cell == 'F'\": shape: (261, 5)\n",
       " ┌───────────────┬───────────┬──────────┬───────────┬────────┐\n",
       " │ donor_assets  ┆ race_cell ┆ sex_cell ┆ work_cell ┆ weight │\n",
       " │ ---           ┆ ---       ┆ ---      ┆ ---       ┆ ---    │\n",
       " │ f64           ┆ str       ┆ str      ┆ i64       ┆ i32    │\n",
       " ╞═══════════════╪═══════════╪══════════╪═══════════╪════════╡\n",
       " │ 173363.719857 ┆ Black     ┆ F        ┆ 0         ┆ 1      │\n",
       " │ 159487.865531 ┆ Black     ┆ F        ┆ 1         ┆ 2      │\n",
       " │ 126613.74182  ┆ Black     ┆ F        ┆ 1         ┆ 1      │\n",
       " │ 541507.705513 ┆ Black     ┆ F        ┆ 1         ┆ 1      │\n",
       " │ 379868.656656 ┆ Black     ┆ F        ┆ 1         ┆ 1      │\n",
       " │ …             ┆ …         ┆ …        ┆ …         ┆ …      │\n",
       " │ 669546.425818 ┆ Black     ┆ F        ┆ 0         ┆ 3      │\n",
       " │ 677244.485881 ┆ Black     ┆ F        ┆ 1         ┆ 3      │\n",
       " │ 244230.051098 ┆ Black     ┆ F        ┆ 0         ┆ 3      │\n",
       " │ 40297.871806  ┆ Black     ┆ F        ┆ 0         ┆ 4      │\n",
       " │ 351012.481398 ┆ Black     ┆ F        ┆ 1         ┆ 2      │\n",
       " └───────────────┴───────────┴──────────┴───────────┴────────┘}"
      ]
     },
     "execution_count": 8,
     "metadata": {},
     "output_type": "execute_result"
    }
   ],
   "source": [
    "# Take a look at donor cells\n",
    "imputer.donor_cells"
   ]
  },
  {
   "cell_type": "code",
   "execution_count": 9,
   "metadata": {},
   "outputs": [],
   "source": [
    "# After deciding that you want to split on work_cell for Black Women, you can do the following\n",
    "imputer.split_cell(\"race_cell == 'Black' & sex_cell == 'F'\", \"work_cell\")\n"
   ]
  },
  {
   "cell_type": "code",
   "execution_count": 10,
   "metadata": {},
   "outputs": [
    {
     "data": {
      "text/plain": [
       "[\"race_cell == 'White' & sex_cell == 'M'\",\n",
       " \"race_cell == 'White' & sex_cell == 'F'\",\n",
       " \"race_cell == 'Black' & sex_cell == 'M'\",\n",
       " \"race_cell == 'Black' & sex_cell == 'F' & work_cell == 0\",\n",
       " \"race_cell == 'Black' & sex_cell == 'F' & work_cell == 1\"]"
      ]
     },
     "execution_count": 10,
     "metadata": {},
     "output_type": "execute_result"
    }
   ],
   "source": [
    "# Cell definitions have changed, as have donor cells\n",
    "imputer.cell_definitions"
   ]
  },
  {
   "cell_type": "code",
   "execution_count": 11,
   "metadata": {},
   "outputs": [
    {
     "data": {
      "text/html": [
       "<div><style>\n",
       ".dataframe > thead > tr,\n",
       ".dataframe > tbody > tr {\n",
       "  text-align: right;\n",
       "  white-space: pre-wrap;\n",
       "}\n",
       "</style>\n",
       "<small>shape: (153, 5)</small><table border=\"1\" class=\"dataframe\"><thead><tr><th>donor_assets</th><th>race_cell</th><th>sex_cell</th><th>work_cell</th><th>weight</th></tr><tr><td>f64</td><td>str</td><td>str</td><td>i64</td><td>i32</td></tr></thead><tbody><tr><td>159487.865531</td><td>&quot;Black&quot;</td><td>&quot;F&quot;</td><td>1</td><td>2</td></tr><tr><td>126613.74182</td><td>&quot;Black&quot;</td><td>&quot;F&quot;</td><td>1</td><td>1</td></tr><tr><td>541507.705513</td><td>&quot;Black&quot;</td><td>&quot;F&quot;</td><td>1</td><td>1</td></tr><tr><td>379868.656656</td><td>&quot;Black&quot;</td><td>&quot;F&quot;</td><td>1</td><td>1</td></tr><tr><td>280414.687136</td><td>&quot;Black&quot;</td><td>&quot;F&quot;</td><td>1</td><td>1</td></tr><tr><td>&hellip;</td><td>&hellip;</td><td>&hellip;</td><td>&hellip;</td><td>&hellip;</td></tr><tr><td>458574.535186</td><td>&quot;Black&quot;</td><td>&quot;F&quot;</td><td>1</td><td>4</td></tr><tr><td>240844.463918</td><td>&quot;Black&quot;</td><td>&quot;F&quot;</td><td>1</td><td>1</td></tr><tr><td>71619.967279</td><td>&quot;Black&quot;</td><td>&quot;F&quot;</td><td>1</td><td>3</td></tr><tr><td>677244.485881</td><td>&quot;Black&quot;</td><td>&quot;F&quot;</td><td>1</td><td>3</td></tr><tr><td>351012.481398</td><td>&quot;Black&quot;</td><td>&quot;F&quot;</td><td>1</td><td>2</td></tr></tbody></table></div>"
      ],
      "text/plain": [
       "shape: (153, 5)\n",
       "┌───────────────┬───────────┬──────────┬───────────┬────────┐\n",
       "│ donor_assets  ┆ race_cell ┆ sex_cell ┆ work_cell ┆ weight │\n",
       "│ ---           ┆ ---       ┆ ---      ┆ ---       ┆ ---    │\n",
       "│ f64           ┆ str       ┆ str      ┆ i64       ┆ i32    │\n",
       "╞═══════════════╪═══════════╪══════════╪═══════════╪════════╡\n",
       "│ 159487.865531 ┆ Black     ┆ F        ┆ 1         ┆ 2      │\n",
       "│ 126613.74182  ┆ Black     ┆ F        ┆ 1         ┆ 1      │\n",
       "│ 541507.705513 ┆ Black     ┆ F        ┆ 1         ┆ 1      │\n",
       "│ 379868.656656 ┆ Black     ┆ F        ┆ 1         ┆ 1      │\n",
       "│ 280414.687136 ┆ Black     ┆ F        ┆ 1         ┆ 1      │\n",
       "│ …             ┆ …         ┆ …        ┆ …         ┆ …      │\n",
       "│ 458574.535186 ┆ Black     ┆ F        ┆ 1         ┆ 4      │\n",
       "│ 240844.463918 ┆ Black     ┆ F        ┆ 1         ┆ 1      │\n",
       "│ 71619.967279  ┆ Black     ┆ F        ┆ 1         ┆ 3      │\n",
       "│ 677244.485881 ┆ Black     ┆ F        ┆ 1         ┆ 3      │\n",
       "│ 351012.481398 ┆ Black     ┆ F        ┆ 1         ┆ 2      │\n",
       "└───────────────┴───────────┴──────────┴───────────┴────────┘"
      ]
     },
     "execution_count": 11,
     "metadata": {},
     "output_type": "execute_result"
    }
   ],
   "source": [
    "# Take a look at donor and recipient after splitting\n",
    "imputer.donor_cells[\"race_cell == 'Black' & sex_cell == 'F' & work_cell == 1\"]"
   ]
  },
  {
   "cell_type": "code",
   "execution_count": 12,
   "metadata": {},
   "outputs": [
    {
     "data": {
      "text/html": [
       "<div><style>\n",
       ".dataframe > thead > tr,\n",
       ".dataframe > tbody > tr {\n",
       "  text-align: right;\n",
       "  white-space: pre-wrap;\n",
       "}\n",
       "</style>\n",
       "<small>shape: (202, 4)</small><table border=\"1\" class=\"dataframe\"><thead><tr><th>race_cell</th><th>sex_cell</th><th>work_cell</th><th>weight</th></tr><tr><td>str</td><td>str</td><td>i64</td><td>i32</td></tr></thead><tbody><tr><td>&quot;Black&quot;</td><td>&quot;F&quot;</td><td>1</td><td>3</td></tr><tr><td>&quot;Black&quot;</td><td>&quot;F&quot;</td><td>1</td><td>3</td></tr><tr><td>&quot;Black&quot;</td><td>&quot;F&quot;</td><td>1</td><td>1</td></tr><tr><td>&quot;Black&quot;</td><td>&quot;F&quot;</td><td>1</td><td>4</td></tr><tr><td>&quot;Black&quot;</td><td>&quot;F&quot;</td><td>1</td><td>2</td></tr><tr><td>&hellip;</td><td>&hellip;</td><td>&hellip;</td><td>&hellip;</td></tr><tr><td>&quot;Black&quot;</td><td>&quot;F&quot;</td><td>1</td><td>3</td></tr><tr><td>&quot;Black&quot;</td><td>&quot;F&quot;</td><td>1</td><td>2</td></tr><tr><td>&quot;Black&quot;</td><td>&quot;F&quot;</td><td>1</td><td>2</td></tr><tr><td>&quot;Black&quot;</td><td>&quot;F&quot;</td><td>1</td><td>2</td></tr><tr><td>&quot;Black&quot;</td><td>&quot;F&quot;</td><td>1</td><td>4</td></tr></tbody></table></div>"
      ],
      "text/plain": [
       "shape: (202, 4)\n",
       "┌───────────┬──────────┬───────────┬────────┐\n",
       "│ race_cell ┆ sex_cell ┆ work_cell ┆ weight │\n",
       "│ ---       ┆ ---      ┆ ---       ┆ ---    │\n",
       "│ str       ┆ str      ┆ i64       ┆ i32    │\n",
       "╞═══════════╪══════════╪═══════════╪════════╡\n",
       "│ Black     ┆ F        ┆ 1         ┆ 3      │\n",
       "│ Black     ┆ F        ┆ 1         ┆ 3      │\n",
       "│ Black     ┆ F        ┆ 1         ┆ 1      │\n",
       "│ Black     ┆ F        ┆ 1         ┆ 4      │\n",
       "│ Black     ┆ F        ┆ 1         ┆ 2      │\n",
       "│ …         ┆ …        ┆ …         ┆ …      │\n",
       "│ Black     ┆ F        ┆ 1         ┆ 3      │\n",
       "│ Black     ┆ F        ┆ 1         ┆ 2      │\n",
       "│ Black     ┆ F        ┆ 1         ┆ 2      │\n",
       "│ Black     ┆ F        ┆ 1         ┆ 2      │\n",
       "│ Black     ┆ F        ┆ 1         ┆ 4      │\n",
       "└───────────┴──────────┴───────────┴────────┘"
      ]
     },
     "execution_count": 12,
     "metadata": {},
     "output_type": "execute_result"
    }
   ],
   "source": [
    "imputer.recipient_cells[\"race_cell == 'Black' & sex_cell == 'F' & work_cell == 1\"]"
   ]
  },
  {
   "cell_type": "code",
   "execution_count": 13,
   "metadata": {},
   "outputs": [
    {
     "data": {
      "text/html": [
       "<div><style>\n",
       ".dataframe > thead > tr,\n",
       ".dataframe > tbody > tr {\n",
       "  text-align: right;\n",
       "  white-space: pre-wrap;\n",
       "}\n",
       "</style>\n",
       "<small>shape: (193, 4)</small><table border=\"1\" class=\"dataframe\"><thead><tr><th>race_cell</th><th>sex_cell</th><th>work_cell</th><th>weight</th></tr><tr><td>str</td><td>str</td><td>i64</td><td>i32</td></tr></thead><tbody><tr><td>&quot;Black&quot;</td><td>&quot;F&quot;</td><td>0</td><td>1</td></tr><tr><td>&quot;Black&quot;</td><td>&quot;F&quot;</td><td>0</td><td>2</td></tr><tr><td>&quot;Black&quot;</td><td>&quot;F&quot;</td><td>0</td><td>2</td></tr><tr><td>&quot;Black&quot;</td><td>&quot;F&quot;</td><td>0</td><td>1</td></tr><tr><td>&quot;Black&quot;</td><td>&quot;F&quot;</td><td>0</td><td>1</td></tr><tr><td>&hellip;</td><td>&hellip;</td><td>&hellip;</td><td>&hellip;</td></tr><tr><td>&quot;Black&quot;</td><td>&quot;F&quot;</td><td>0</td><td>4</td></tr><tr><td>&quot;Black&quot;</td><td>&quot;F&quot;</td><td>0</td><td>3</td></tr><tr><td>&quot;Black&quot;</td><td>&quot;F&quot;</td><td>0</td><td>2</td></tr><tr><td>&quot;Black&quot;</td><td>&quot;F&quot;</td><td>0</td><td>2</td></tr><tr><td>&quot;Black&quot;</td><td>&quot;F&quot;</td><td>0</td><td>1</td></tr></tbody></table></div>"
      ],
      "text/plain": [
       "shape: (193, 4)\n",
       "┌───────────┬──────────┬───────────┬────────┐\n",
       "│ race_cell ┆ sex_cell ┆ work_cell ┆ weight │\n",
       "│ ---       ┆ ---      ┆ ---       ┆ ---    │\n",
       "│ str       ┆ str      ┆ i64       ┆ i32    │\n",
       "╞═══════════╪══════════╪═══════════╪════════╡\n",
       "│ Black     ┆ F        ┆ 0         ┆ 1      │\n",
       "│ Black     ┆ F        ┆ 0         ┆ 2      │\n",
       "│ Black     ┆ F        ┆ 0         ┆ 2      │\n",
       "│ Black     ┆ F        ┆ 0         ┆ 1      │\n",
       "│ Black     ┆ F        ┆ 0         ┆ 1      │\n",
       "│ …         ┆ …        ┆ …         ┆ …      │\n",
       "│ Black     ┆ F        ┆ 0         ┆ 4      │\n",
       "│ Black     ┆ F        ┆ 0         ┆ 3      │\n",
       "│ Black     ┆ F        ┆ 0         ┆ 2      │\n",
       "│ Black     ┆ F        ┆ 0         ┆ 2      │\n",
       "│ Black     ┆ F        ┆ 0         ┆ 1      │\n",
       "└───────────┴──────────┴───────────┴────────┘"
      ]
     },
     "execution_count": 13,
     "metadata": {},
     "output_type": "execute_result"
    }
   ],
   "source": [
    "imputer.recipient_cells[\"race_cell == 'Black' & sex_cell == 'F' & work_cell == 0\"]"
   ]
  },
  {
   "cell_type": "markdown",
   "metadata": {},
   "source": [
    "#### Impute Data + Apply Smoothing"
   ]
  },
  {
   "cell_type": "code",
   "execution_count": 14,
   "metadata": {},
   "outputs": [],
   "source": [
    "imputer.impute()"
   ]
  },
  {
   "cell_type": "code",
   "execution_count": 15,
   "metadata": {},
   "outputs": [
    {
     "data": {
      "text/plain": [
       "{\"race_cell == 'White' & sex_cell == 'M'\": shape: (355, 5)\n",
       " ┌───────────┬──────────┬───────────┬────────┬──────────────────┐\n",
       " │ race_cell ┆ sex_cell ┆ work_cell ┆ weight ┆ imp_donor_assets │\n",
       " │ ---       ┆ ---      ┆ ---       ┆ ---    ┆ ---              │\n",
       " │ str       ┆ str      ┆ i64       ┆ i32    ┆ f64              │\n",
       " ╞═══════════╪══════════╪═══════════╪════════╪══════════════════╡\n",
       " │ White     ┆ M        ┆ 1         ┆ 4      ┆ 417684.727028    │\n",
       " │ White     ┆ M        ┆ 0         ┆ 4      ┆ 403329.548633    │\n",
       " │ White     ┆ M        ┆ 1         ┆ 4      ┆ 492571.894218    │\n",
       " │ White     ┆ M        ┆ 0         ┆ 4      ┆ 513285.335276    │\n",
       " │ White     ┆ M        ┆ 1         ┆ 4      ┆ 678337.40251     │\n",
       " │ …         ┆ …        ┆ …         ┆ …      ┆ …                │\n",
       " │ White     ┆ M        ┆ 0         ┆ 3      ┆ 316424.629762    │\n",
       " │ White     ┆ M        ┆ 1         ┆ 3      ┆ 238361.218736    │\n",
       " │ White     ┆ M        ┆ 1         ┆ 3      ┆ 208702.320036    │\n",
       " │ White     ┆ M        ┆ 1         ┆ 4      ┆ 256992.776333    │\n",
       " │ White     ┆ M        ┆ 0         ┆ 1      ┆ 4430.860152      │\n",
       " └───────────┴──────────┴───────────┴────────┴──────────────────┘,\n",
       " \"race_cell == 'White' & sex_cell == 'F'\": shape: (371, 5)\n",
       " ┌───────────┬──────────┬───────────┬────────┬──────────────────┐\n",
       " │ race_cell ┆ sex_cell ┆ work_cell ┆ weight ┆ imp_donor_assets │\n",
       " │ ---       ┆ ---      ┆ ---       ┆ ---    ┆ ---              │\n",
       " │ str       ┆ str      ┆ i64       ┆ i32    ┆ f64              │\n",
       " ╞═══════════╪══════════╪═══════════╪════════╪══════════════════╡\n",
       " │ White     ┆ F        ┆ 0         ┆ 3      ┆ 508816.937696    │\n",
       " │ White     ┆ F        ┆ 1         ┆ 3      ┆ 410054.523084    │\n",
       " │ White     ┆ F        ┆ 1         ┆ 2      ┆ 529175.216943    │\n",
       " │ White     ┆ F        ┆ 0         ┆ 3      ┆ 326188.692066    │\n",
       " │ White     ┆ F        ┆ 0         ┆ 3      ┆ 383696.03048     │\n",
       " │ …         ┆ …        ┆ …         ┆ …      ┆ …                │\n",
       " │ White     ┆ F        ┆ 1         ┆ 3      ┆ 634056.232183    │\n",
       " │ White     ┆ F        ┆ 0         ┆ 1      ┆ 394129.991484    │\n",
       " │ White     ┆ F        ┆ 0         ┆ 4      ┆ 128302.926042    │\n",
       " │ White     ┆ F        ┆ 1         ┆ 4      ┆ 616353.004034    │\n",
       " │ White     ┆ F        ┆ 1         ┆ 3      ┆ 683687.929628    │\n",
       " └───────────┴──────────┴───────────┴────────┴──────────────────┘,\n",
       " \"race_cell == 'Black' & sex_cell == 'M'\": shape: (379, 5)\n",
       " ┌───────────┬──────────┬───────────┬────────┬──────────────────┐\n",
       " │ race_cell ┆ sex_cell ┆ work_cell ┆ weight ┆ imp_donor_assets │\n",
       " │ ---       ┆ ---      ┆ ---       ┆ ---    ┆ ---              │\n",
       " │ str       ┆ str      ┆ i64       ┆ i32    ┆ f64              │\n",
       " ╞═══════════╪══════════╪═══════════╪════════╪══════════════════╡\n",
       " │ Black     ┆ M        ┆ 0         ┆ 4      ┆ 173756.419095    │\n",
       " │ Black     ┆ M        ┆ 1         ┆ 4      ┆ 603315.966831    │\n",
       " │ Black     ┆ M        ┆ 1         ┆ 1      ┆ 590089.798745    │\n",
       " │ Black     ┆ M        ┆ 1         ┆ 1      ┆ 706991.45316     │\n",
       " │ Black     ┆ M        ┆ 0         ┆ 4      ┆ 296779.561632    │\n",
       " │ …         ┆ …        ┆ …         ┆ …      ┆ …                │\n",
       " │ Black     ┆ M        ┆ 1         ┆ 3      ┆ 538306.917974    │\n",
       " │ Black     ┆ M        ┆ 1         ┆ 1      ┆ 96572.250112     │\n",
       " │ Black     ┆ M        ┆ 1         ┆ 2      ┆ 594831.064545    │\n",
       " │ Black     ┆ M        ┆ 0         ┆ 4      ┆ 254516.749888    │\n",
       " │ Black     ┆ M        ┆ 1         ┆ 3      ┆ 220629.115643    │\n",
       " └───────────┴──────────┴───────────┴────────┴──────────────────┘,\n",
       " \"race_cell == 'Black' & sex_cell == 'F' & work_cell == 0\": shape: (193, 5)\n",
       " ┌───────────┬──────────┬───────────┬────────┬──────────────────┐\n",
       " │ race_cell ┆ sex_cell ┆ work_cell ┆ weight ┆ imp_donor_assets │\n",
       " │ ---       ┆ ---      ┆ ---       ┆ ---    ┆ ---              │\n",
       " │ str       ┆ str      ┆ i64       ┆ i32    ┆ f64              │\n",
       " ╞═══════════╪══════════╪═══════════╪════════╪══════════════════╡\n",
       " │ Black     ┆ F        ┆ 0         ┆ 1      ┆ 542723.340654    │\n",
       " │ Black     ┆ F        ┆ 0         ┆ 2      ┆ 243057.728373    │\n",
       " │ Black     ┆ F        ┆ 0         ┆ 2      ┆ 618805.930524    │\n",
       " │ Black     ┆ F        ┆ 0         ┆ 1      ┆ 340091.977589    │\n",
       " │ Black     ┆ F        ┆ 0         ┆ 1      ┆ 55590.042134     │\n",
       " │ …         ┆ …        ┆ …         ┆ …      ┆ …                │\n",
       " │ Black     ┆ F        ┆ 0         ┆ 4      ┆ 294328.078888    │\n",
       " │ Black     ┆ F        ┆ 0         ┆ 3      ┆ 179490.982967    │\n",
       " │ Black     ┆ F        ┆ 0         ┆ 2      ┆ 71009.262214     │\n",
       " │ Black     ┆ F        ┆ 0         ┆ 2      ┆ 664496.198117    │\n",
       " │ Black     ┆ F        ┆ 0         ┆ 1      ┆ 518811.999552    │\n",
       " └───────────┴──────────┴───────────┴────────┴──────────────────┘,\n",
       " \"race_cell == 'Black' & sex_cell == 'F' & work_cell == 1\": shape: (202, 5)\n",
       " ┌───────────┬──────────┬───────────┬────────┬──────────────────┐\n",
       " │ race_cell ┆ sex_cell ┆ work_cell ┆ weight ┆ imp_donor_assets │\n",
       " │ ---       ┆ ---      ┆ ---       ┆ ---    ┆ ---              │\n",
       " │ str       ┆ str      ┆ i64       ┆ i32    ┆ f64              │\n",
       " ╞═══════════╪══════════╪═══════════╪════════╪══════════════════╡\n",
       " │ Black     ┆ F        ┆ 1         ┆ 3      ┆ 442979.177947    │\n",
       " │ Black     ┆ F        ┆ 1         ┆ 3      ┆ 316895.291349    │\n",
       " │ Black     ┆ F        ┆ 1         ┆ 1      ┆ 95180.477813     │\n",
       " │ Black     ┆ F        ┆ 1         ┆ 4      ┆ 531088.181981    │\n",
       " │ Black     ┆ F        ┆ 1         ┆ 2      ┆ 458574.535186    │\n",
       " │ …         ┆ …        ┆ …         ┆ …      ┆ …                │\n",
       " │ Black     ┆ F        ┆ 1         ┆ 3      ┆ 44113.695652     │\n",
       " │ Black     ┆ F        ┆ 1         ┆ 2      ┆ 63214.471089     │\n",
       " │ Black     ┆ F        ┆ 1         ┆ 2      ┆ 341856.236665    │\n",
       " │ Black     ┆ F        ┆ 1         ┆ 2      ┆ 213556.198117    │\n",
       " │ Black     ┆ F        ┆ 1         ┆ 4      ┆ 87912.654415     │\n",
       " └───────────┴──────────┴───────────┴────────┴──────────────────┘}"
      ]
     },
     "execution_count": 15,
     "metadata": {},
     "output_type": "execute_result"
    }
   ],
   "source": [
    "# Notice imp_donor_assets has been added to recipient cells\n",
    "imputer.recipient_cells"
   ]
  },
  {
   "cell_type": "code",
   "execution_count": 16,
   "metadata": {},
   "outputs": [
    {
     "data": {
      "text/html": [
       "<div><style>\n",
       ".dataframe > thead > tr,\n",
       ".dataframe > tbody > tr {\n",
       "  text-align: right;\n",
       "  white-space: pre-wrap;\n",
       "}\n",
       "</style>\n",
       "<small>shape: (1_500, 5)</small><table border=\"1\" class=\"dataframe\"><thead><tr><th>race_cell</th><th>sex_cell</th><th>work_cell</th><th>weight</th><th>imp_donor_assets</th></tr><tr><td>str</td><td>str</td><td>i64</td><td>i32</td><td>f64</td></tr></thead><tbody><tr><td>&quot;White&quot;</td><td>&quot;M&quot;</td><td>1</td><td>4</td><td>417684.727028</td></tr><tr><td>&quot;White&quot;</td><td>&quot;M&quot;</td><td>0</td><td>4</td><td>403329.548633</td></tr><tr><td>&quot;White&quot;</td><td>&quot;M&quot;</td><td>1</td><td>4</td><td>492571.894218</td></tr><tr><td>&quot;White&quot;</td><td>&quot;M&quot;</td><td>0</td><td>4</td><td>513285.335276</td></tr><tr><td>&quot;White&quot;</td><td>&quot;M&quot;</td><td>1</td><td>4</td><td>678337.40251</td></tr><tr><td>&hellip;</td><td>&hellip;</td><td>&hellip;</td><td>&hellip;</td><td>&hellip;</td></tr><tr><td>&quot;Black&quot;</td><td>&quot;F&quot;</td><td>1</td><td>3</td><td>44113.695652</td></tr><tr><td>&quot;Black&quot;</td><td>&quot;F&quot;</td><td>1</td><td>2</td><td>63214.471089</td></tr><tr><td>&quot;Black&quot;</td><td>&quot;F&quot;</td><td>1</td><td>2</td><td>341856.236665</td></tr><tr><td>&quot;Black&quot;</td><td>&quot;F&quot;</td><td>1</td><td>2</td><td>213556.198117</td></tr><tr><td>&quot;Black&quot;</td><td>&quot;F&quot;</td><td>1</td><td>4</td><td>87912.654415</td></tr></tbody></table></div>"
      ],
      "text/plain": [
       "shape: (1_500, 5)\n",
       "┌───────────┬──────────┬───────────┬────────┬──────────────────┐\n",
       "│ race_cell ┆ sex_cell ┆ work_cell ┆ weight ┆ imp_donor_assets │\n",
       "│ ---       ┆ ---      ┆ ---       ┆ ---    ┆ ---              │\n",
       "│ str       ┆ str      ┆ i64       ┆ i32    ┆ f64              │\n",
       "╞═══════════╪══════════╪═══════════╪════════╪══════════════════╡\n",
       "│ White     ┆ M        ┆ 1         ┆ 4      ┆ 417684.727028    │\n",
       "│ White     ┆ M        ┆ 0         ┆ 4      ┆ 403329.548633    │\n",
       "│ White     ┆ M        ┆ 1         ┆ 4      ┆ 492571.894218    │\n",
       "│ White     ┆ M        ┆ 0         ┆ 4      ┆ 513285.335276    │\n",
       "│ White     ┆ M        ┆ 1         ┆ 4      ┆ 678337.40251     │\n",
       "│ …         ┆ …        ┆ …         ┆ …      ┆ …                │\n",
       "│ Black     ┆ F        ┆ 1         ┆ 3      ┆ 44113.695652     │\n",
       "│ Black     ┆ F        ┆ 1         ┆ 2      ┆ 63214.471089     │\n",
       "│ Black     ┆ F        ┆ 1         ┆ 2      ┆ 341856.236665    │\n",
       "│ Black     ┆ F        ┆ 1         ┆ 2      ┆ 213556.198117    │\n",
       "│ Black     ┆ F        ┆ 1         ┆ 4      ┆ 87912.654415     │\n",
       "└───────────┴──────────┴───────────┴────────┴──────────────────┘"
      ]
     },
     "execution_count": 16,
     "metadata": {},
     "output_type": "execute_result"
    }
   ],
   "source": [
    "imputer.recipient_data"
   ]
  },
  {
   "cell_type": "code",
   "execution_count": 17,
   "metadata": {},
   "outputs": [],
   "source": [
    "# To smooth out clusters, you can add random noise proportional to the standard deviation of the variable \n",
    "# and set a floor value that the noise cannot send a value below (to avoid negative or impossible values)\n",
    "imputer.apply_random_noise(variation_stdev = (1/6), floor_noise = 1.5)"
   ]
  },
  {
   "cell_type": "code",
   "execution_count": 18,
   "metadata": {},
   "outputs": [
    {
     "data": {
      "text/plain": [
       "0.16666666666666666"
      ]
     },
     "execution_count": 18,
     "metadata": {},
     "output_type": "execute_result"
    }
   ],
   "source": [
    "# Take a look at the random noise used, initialized after above function is called\n",
    "imputer.random_noise"
   ]
  },
  {
   "cell_type": "markdown",
   "metadata": {},
   "source": [
    "#### Examine Results"
   ]
  },
  {
   "cell_type": "code",
   "execution_count": 19,
   "metadata": {},
   "outputs": [
    {
     "data": {
      "text/plain": [
       "['donor_assets', 'race_cell', 'sex_cell', 'work_cell', 'weight']"
      ]
     },
     "execution_count": 19,
     "metadata": {},
     "output_type": "execute_result"
    }
   ],
   "source": [
    "imputer.donor_data.columns"
   ]
  },
  {
   "cell_type": "code",
   "execution_count": 20,
   "metadata": {},
   "outputs": [
    {
     "data": {
      "text/plain": [
       "{'mean': 352122.1382765577,\n",
       " 'median': 338820.7581801883,\n",
       " 'min': 1754.152846257284,\n",
       " 'max': 721607.9497982968,\n",
       " 'std_dev': 210173.6902781132,\n",
       " 'count': 1000,\n",
       " 'missing_values': 0}"
      ]
     },
     "execution_count": 20,
     "metadata": {},
     "output_type": "execute_result"
    }
   ],
   "source": [
    "imputer.summarize_column(imputer.donor_data, 'donor_assets')"
   ]
  },
  {
   "cell_type": "code",
   "execution_count": 21,
   "metadata": {},
   "outputs": [
    {
     "data": {
      "text/plain": [
       "{'mean': 339939.74422088783,\n",
       " 'median': 315790.96888513654,\n",
       " 'min': 1754.152846257284,\n",
       " 'max': 721651.4018333077,\n",
       " 'std_dev': 208632.63771294753,\n",
       " 'count': 1500,\n",
       " 'missing_values': 0}"
      ]
     },
     "execution_count": 21,
     "metadata": {},
     "output_type": "execute_result"
    }
   ],
   "source": [
    "imputer.summarize_column(imputer.recipient_data, 'imp_donor_assets')"
   ]
  },
  {
   "cell_type": "code",
   "execution_count": 22,
   "metadata": {},
   "outputs": [
    {
     "data": {
      "image/png": "[encoded data removed]",
      "text/plain": [
       "<Figure size 640x480 with 1 Axes>"
      ]
     },
     "metadata": {},
     "output_type": "display_data"
    }
   ],
   "source": [
    "# Compare the input to the output in the process\n",
    "plot_data = imputer.recipient_data[['weight','imp_donor_assets']]\n",
    "plot_data_donor = imputer.donor_data[['weight','donor_assets']]\n",
    "\n",
    "# Create a weighted histogram plot for donor data\n",
    "sns.kdeplot(data=plot_data_donor, x='donor_assets', weights='weight', color='green', label='Donor', alpha=0.5)\n",
    "\n",
    "# Create a weighted histogram plot for recipient data\n",
    "sns.kdeplot(data=plot_data, x='imp_donor_assets', weights='weight', color='blue', label='Recipient', alpha=0.5)\n",
    "\n",
    "# Add titles and labels\n",
    "plt.title('Liquid assets post noise injection')\n",
    "plt.xlabel('Liquid Assets Value')\n",
    "plt.ylabel('Weighted Density')\n",
    "\n",
    "# Add a legend to differentiate between recipient and donor data\n",
    "plt.legend()\n",
    "\n",
    "# Show the plot\n",
    "plt.show()"
   ]
  },
  {
   "cell_type": "code",
   "execution_count": 23,
   "metadata": {},
   "outputs": [
    {
     "name": "stdout",
     "output_type": "stream",
     "text": [
      "Cell data written to '.\\hot_deck_stats.xlsx'.\n"
     ]
    }
   ],
   "source": [
    "imputer.gen_analysis_file('hot_deck_stats', '')"
   ]
  },
  {
   "cell_type": "code",
   "execution_count": 24,
   "metadata": {},
   "outputs": [
    {
     "name": "stdout",
     "output_type": "stream",
     "text": [
      "Cell data written to '.\\hot_deck_stats.xlsx'.\n"
     ]
    }
   ],
   "source": [
    "imputer.gen_analysis_file('hot_deck_stats')"
   ]
  }
 ],
 "metadata": {
  "kernelspec": {
   "display_name": ".venv",
   "language": "python",
   "name": "python3"
  },
  "language_info": {
   "codemirror_mode": {
    "name": "ipython",
    "version": 3
   },
   "file_extension": ".py",
   "mimetype": "text/x-python",
   "name": "python",
   "nbconvert_exporter": "python",
   "pygments_lexer": "ipython3",
   "version": "3.12.4"
  }
 },
 "nbformat": 4,
 "nbformat_minor": 2
}
